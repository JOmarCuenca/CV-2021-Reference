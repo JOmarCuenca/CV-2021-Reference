{
 "cells": [
  {
   "cell_type": "markdown",
   "id": "signed-tribute",
   "metadata": {},
   "source": [
    "# Tarea 8"
   ]
  },
  {
   "cell_type": "markdown",
   "id": "documented-visibility",
   "metadata": {},
   "source": [
    "## Pregunta 1\n",
    "\n",
    "Imagen con momazo"
   ]
  },
  {
   "cell_type": "code",
   "execution_count": 2,
   "id": "tested-justice",
   "metadata": {},
   "outputs": [],
   "source": [
    "import cv2"
   ]
  },
  {
   "cell_type": "code",
   "execution_count": 3,
   "id": "african-access",
   "metadata": {},
   "outputs": [],
   "source": [
    "cap = cv2.VideoCapture(0)\n",
    "cap.set(3,640) #width=640\n",
    "cap.set(4,480) #height=480\n",
    "\n",
    "img = None\n",
    "\n",
    "if cap.isOpened():\n",
    "    _,img = cap.read()\n",
    "    cap.release() #releasing camera immediately after capturing picture\n",
    "    if _ and img is not None:\n",
    "        cv2.imwrite('img.jpg', img)"
   ]
  },
  {
   "cell_type": "markdown",
   "id": "eastern-showcase",
   "metadata": {},
   "source": [
    "<img src=\"img.jpg\" />"
   ]
  },
  {
   "cell_type": "code",
   "execution_count": 4,
   "id": "handled-humidity",
   "metadata": {},
   "outputs": [
    {
     "data": {
      "text/plain": [
       "True"
      ]
     },
     "execution_count": 4,
     "metadata": {},
     "output_type": "execute_result"
    }
   ],
   "source": [
    "# Write some Text\n",
    "\n",
    "font                   = cv2.FONT_HERSHEY_SIMPLEX\n",
    "topRightCorner         = (500,25)\n",
    "fontScale              = 1\n",
    "fontColor              = (153, 0, 153)\n",
    "lineType               = 2\n",
    "\n",
    "cv2.putText(img,'Omar Cuenca\\nA01378844', \n",
    "    topRightCorner, \n",
    "    font, \n",
    "    fontScale,\n",
    "    fontColor,\n",
    "    lineType)\n",
    "\n",
    "#Save image\n",
    "cv2.imwrite(\"out.jpg\", img)"
   ]
  },
  {
   "cell_type": "markdown",
   "id": "cubic-strap",
   "metadata": {},
   "source": [
    "<img src=\"./out.jpg\" />"
   ]
  },
  {
   "cell_type": "code",
   "execution_count": null,
   "id": "federal-transaction",
   "metadata": {},
   "outputs": [],
   "source": []
  }
 ],
 "metadata": {
  "kernelspec": {
   "display_name": "Python 3",
   "language": "python",
   "name": "python3"
  },
  "language_info": {
   "codemirror_mode": {
    "name": "ipython",
    "version": 3
   },
   "file_extension": ".py",
   "mimetype": "text/x-python",
   "name": "python",
   "nbconvert_exporter": "python",
   "pygments_lexer": "ipython3",
   "version": "3.8.5"
  }
 },
 "nbformat": 4,
 "nbformat_minor": 5
}
