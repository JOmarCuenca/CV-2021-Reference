{
 "cells": [
  {
   "cell_type": "markdown",
   "id": "therapeutic-breath",
   "metadata": {},
   "source": [
    "# Tarea 14 Aprendiendo Keras"
   ]
  },
  {
   "cell_type": "markdown",
   "id": "wrapped-evaluation",
   "metadata": {},
   "source": [
    "## Part 3 of deeplizard tutorial on Keras\n",
    "\n",
    "link >> https://www.youtube.com/watch?v=3FwGDUD_ZuQ&list=PLZbbT5o_s2xrwRnXk_yCPtnqqo4_u2YGL&index=3"
   ]
  },
  {
   "cell_type": "code",
   "execution_count": 1,
   "id": "innocent-founder",
   "metadata": {},
   "outputs": [],
   "source": [
    "import numpy as np\n",
    "from random import randint\n",
    "from sklearn.utils import shuffle\n",
    "from sklearn.preprocessing import MinMaxScaler"
   ]
  },
  {
   "cell_type": "code",
   "execution_count": 2,
   "id": "gentle-aging",
   "metadata": {},
   "outputs": [],
   "source": [
    "train_labels  = []\n",
    "train_samples = []"
   ]
  },
  {
   "cell_type": "markdown",
   "id": "distinct-verification",
   "metadata": {},
   "source": [
    "## Creado del training set \n",
    "\n",
    "5% de la poblacion joven tuvo efectos secundarios y 5% de la poblacion vieja no"
   ]
  },
  {
   "cell_type": "code",
   "execution_count": 3,
   "id": "national-bristol",
   "metadata": {},
   "outputs": [],
   "source": [
    "for i in range(50):\n",
    "    # joven que tuvo efectos secundarios\n",
    "    train_samples.append(randint(13,64))\n",
    "    train_labels.append(1)\n",
    "    \n",
    "    # Viejo que no tuvo efectos secundarios\n",
    "    train_samples.append(randint(65,100))\n",
    "    train_labels.append(0)"
   ]
  },
  {
   "cell_type": "code",
   "execution_count": 4,
   "id": "stretch-seattle",
   "metadata": {},
   "outputs": [],
   "source": [
    "for i in range(1000):\n",
    "    # joven que no tuvo efectos secundarios\n",
    "    train_samples.append(randint(13,64))\n",
    "    train_labels.append(0)\n",
    "    \n",
    "    # Viejo que tuvo efectos secundarios\n",
    "    train_samples.append(randint(65,100))\n",
    "    train_labels.append(1)"
   ]
  },
  {
   "cell_type": "markdown",
   "id": "incorporate-secretariat",
   "metadata": {},
   "source": [
    "## De array normal a numpy array"
   ]
  },
  {
   "cell_type": "code",
   "execution_count": 5,
   "id": "infectious-circle",
   "metadata": {},
   "outputs": [],
   "source": [
    "train_labels = np.array(train_labels)\n",
    "train_samples = np.array(train_samples)\n",
    "train_labels, train_samples = shuffle(train_labels, train_samples)"
   ]
  },
  {
   "cell_type": "markdown",
   "id": "fuzzy-sender",
   "metadata": {},
   "source": [
    "### Reduccion del alcance de los numeros para facilitar operaciones"
   ]
  },
  {
   "cell_type": "code",
   "execution_count": 6,
   "id": "ambient-victory",
   "metadata": {},
   "outputs": [],
   "source": [
    "scaler = MinMaxScaler(feature_range=(0,1))\n",
    "scaled_train_samples = scaler.fit_transform(train_samples.reshape(-1,1))"
   ]
  },
  {
   "cell_type": "code",
   "execution_count": 7,
   "id": "pharmaceutical-stand",
   "metadata": {},
   "outputs": [
    {
     "name": "stdout",
     "output_type": "stream",
     "text": [
      "[[0.42528736]\n",
      " [0.45977011]\n",
      " [0.14942529]\n",
      " ...\n",
      " [0.2183908 ]\n",
      " [0.25287356]\n",
      " [0.62068966]]\n"
     ]
    }
   ],
   "source": [
    "print(scaled_train_samples)"
   ]
  },
  {
   "cell_type": "markdown",
   "id": "separate-negotiation",
   "metadata": {},
   "source": [
    "## Part 4 del tutorial de deeplizard para Keras\n",
    "\n",
    "link >> https://www.youtube.com/watch?v=HrfrN3hn7QE&list=PLZbbT5o_s2xrwRnXk_yCPtnqqo4_u2YGL&index=4"
   ]
  },
  {
   "cell_type": "code",
   "execution_count": 8,
   "id": "extensive-scanning",
   "metadata": {},
   "outputs": [],
   "source": [
    "import tensorflow as tf\n",
    "from tensorflow import keras\n",
    "from tensorflow.keras.models import Sequential\n",
    "from tensorflow.keras.layers import Activation, Dense\n",
    "from tensorflow.keras.optimizers import Adam\n",
    "from tensorflow.keras.metrics import categorical_crossentropy"
   ]
  },
  {
   "cell_type": "markdown",
   "id": "meaning-greece",
   "metadata": {},
   "source": [
    "Pongo esta nota por si se requiere habilitar GPU\n",
    "\n",
    "Pero dado que mi computadora no tiene una GPU lo voy a dejar como un raw text"
   ]
  },
  {
   "cell_type": "raw",
   "id": "english-salon",
   "metadata": {},
   "source": [
    "physical_devices = tf.config.experimental.list_physical_devices(\"GPU\")\n",
    "print(\"Num GPUs Available: \", len(physical_devices))\n",
    "tf.config.experimental.set_memory_growth(physical_devices[0], True)"
   ]
  },
  {
   "cell_type": "code",
   "execution_count": 9,
   "id": "fleet-consistency",
   "metadata": {},
   "outputs": [],
   "source": [
    "model = Sequential([\n",
    "    Dense(units=16, input_shape=(1,), activation=\"relu\"),\n",
    "    Dense(units=32, activation=\"relu\"),\n",
    "    Dense(units=2, activation=\"softmax\")\n",
    "])"
   ]
  },
  {
   "cell_type": "code",
   "execution_count": 10,
   "id": "traditional-lightweight",
   "metadata": {},
   "outputs": [
    {
     "name": "stdout",
     "output_type": "stream",
     "text": [
      "Model: \"sequential\"\n",
      "_________________________________________________________________\n",
      "Layer (type)                 Output Shape              Param #   \n",
      "=================================================================\n",
      "dense (Dense)                (None, 16)                32        \n",
      "_________________________________________________________________\n",
      "dense_1 (Dense)              (None, 32)                544       \n",
      "_________________________________________________________________\n",
      "dense_2 (Dense)              (None, 2)                 66        \n",
      "=================================================================\n",
      "Total params: 642\n",
      "Trainable params: 642\n",
      "Non-trainable params: 0\n",
      "_________________________________________________________________\n"
     ]
    }
   ],
   "source": [
    "model.summary()"
   ]
  },
  {
   "cell_type": "markdown",
   "id": "stainless-pharmacology",
   "metadata": {},
   "source": [
    "### Part 5 del tutorial de deeplizard para Keras\n",
    "\n",
    "link >> https://www.youtube.com/watch?v=I8eI4ZhcYdM&list=PLZbbT5o_s2xrwRnXk_yCPtnqqo4_u2YGL&index=5"
   ]
  },
  {
   "cell_type": "markdown",
   "id": "proper-broadcasting",
   "metadata": {},
   "source": [
    "Compilamos el modelo, se prepara para usarse y entrenarse"
   ]
  },
  {
   "cell_type": "code",
   "execution_count": 11,
   "id": "aerial-plymouth",
   "metadata": {},
   "outputs": [],
   "source": [
    "model.compile(\n",
    "    optimizer=Adam(learning_rate=0.0001),\n",
    "    loss=\"sparse_categorical_crossentropy\",\n",
    "    metrics=[\"accuracy\"]\n",
    ")"
   ]
  },
  {
   "cell_type": "markdown",
   "id": "prepared-insurance",
   "metadata": {},
   "source": [
    "Entrenamos el modelo"
   ]
  },
  {
   "cell_type": "code",
   "execution_count": 12,
   "id": "analyzed-conditioning",
   "metadata": {},
   "outputs": [
    {
     "name": "stdout",
     "output_type": "stream",
     "text": [
      "Epoch 1/30\n",
      "210/210 - 1s - loss: 0.6590 - accuracy: 0.5538\n",
      "Epoch 2/30\n",
      "210/210 - 0s - loss: 0.6350 - accuracy: 0.6062\n",
      "Epoch 3/30\n",
      "210/210 - 0s - loss: 0.6080 - accuracy: 0.6867\n",
      "Epoch 4/30\n",
      "210/210 - 0s - loss: 0.5792 - accuracy: 0.7300\n",
      "Epoch 5/30\n",
      "210/210 - 0s - loss: 0.5491 - accuracy: 0.7657\n",
      "Epoch 6/30\n",
      "210/210 - 0s - loss: 0.5169 - accuracy: 0.8014\n",
      "Epoch 7/30\n",
      "210/210 - 0s - loss: 0.4846 - accuracy: 0.8338\n",
      "Epoch 8/30\n",
      "210/210 - 0s - loss: 0.4537 - accuracy: 0.8505\n",
      "Epoch 9/30\n",
      "210/210 - 0s - loss: 0.4254 - accuracy: 0.8595\n",
      "Epoch 10/30\n",
      "210/210 - 0s - loss: 0.4000 - accuracy: 0.8819\n",
      "Epoch 11/30\n",
      "210/210 - 0s - loss: 0.3774 - accuracy: 0.8910\n",
      "Epoch 12/30\n",
      "210/210 - 0s - loss: 0.3584 - accuracy: 0.9119\n",
      "Epoch 13/30\n",
      "210/210 - 0s - loss: 0.3423 - accuracy: 0.9114\n",
      "Epoch 14/30\n",
      "210/210 - 0s - loss: 0.3285 - accuracy: 0.9205\n",
      "Epoch 15/30\n",
      "210/210 - 0s - loss: 0.3170 - accuracy: 0.9233\n",
      "Epoch 16/30\n",
      "210/210 - 0s - loss: 0.3074 - accuracy: 0.9243\n",
      "Epoch 17/30\n",
      "210/210 - 0s - loss: 0.2995 - accuracy: 0.9319\n",
      "Epoch 18/30\n",
      "210/210 - 0s - loss: 0.2926 - accuracy: 0.9271\n",
      "Epoch 19/30\n",
      "210/210 - 0s - loss: 0.2872 - accuracy: 0.9348\n",
      "Epoch 20/30\n",
      "210/210 - 0s - loss: 0.2824 - accuracy: 0.9357\n",
      "Epoch 21/30\n",
      "210/210 - 0s - loss: 0.2784 - accuracy: 0.9367\n",
      "Epoch 22/30\n",
      "210/210 - 0s - loss: 0.2748 - accuracy: 0.9362\n",
      "Epoch 23/30\n",
      "210/210 - 0s - loss: 0.2717 - accuracy: 0.9362\n",
      "Epoch 24/30\n",
      "210/210 - 0s - loss: 0.2691 - accuracy: 0.9395\n",
      "Epoch 25/30\n",
      "210/210 - 0s - loss: 0.2667 - accuracy: 0.9376\n",
      "Epoch 26/30\n",
      "210/210 - 0s - loss: 0.2646 - accuracy: 0.9429\n",
      "Epoch 27/30\n",
      "210/210 - 0s - loss: 0.2628 - accuracy: 0.9400\n",
      "Epoch 28/30\n",
      "210/210 - 0s - loss: 0.2611 - accuracy: 0.9414\n",
      "Epoch 29/30\n",
      "210/210 - 0s - loss: 0.2596 - accuracy: 0.9443\n",
      "Epoch 30/30\n",
      "210/210 - 0s - loss: 0.2581 - accuracy: 0.9410\n"
     ]
    },
    {
     "data": {
      "text/plain": [
       "<tensorflow.python.keras.callbacks.History at 0x7f355808d220>"
      ]
     },
     "execution_count": 12,
     "metadata": {},
     "output_type": "execute_result"
    }
   ],
   "source": [
    "model.fit(\n",
    "    x=scaled_train_samples,\n",
    "    y=train_labels,\n",
    "    batch_size=10,\n",
    "    epochs=30,\n",
    "    shuffle=True,\n",
    "    verbose=2\n",
    ")"
   ]
  },
  {
   "cell_type": "markdown",
   "id": "novel-beijing",
   "metadata": {},
   "source": [
    "### Part 6 del tutorial de deeplizard para Keras\n",
    "\n",
    "link >> https://www.youtube.com/watch?v=U8Ixc2OLSkQ&list=PLZbbT5o_s2xrwRnXk_yCPtnqqo4_u2YGL&index=6"
   ]
  },
  {
   "cell_type": "markdown",
   "id": "wireless-preparation",
   "metadata": {},
   "source": [
    "Armamos un modelo diferente pero con la misma estructura"
   ]
  },
  {
   "cell_type": "code",
   "execution_count": 13,
   "id": "lightweight-wichita",
   "metadata": {},
   "outputs": [],
   "source": [
    "model = Sequential([\n",
    "    Dense(units=16, input_shape=(1,), activation=\"relu\"),\n",
    "    Dense(units=32, activation=\"relu\"),\n",
    "    Dense(units=2, activation=\"softmax\")\n",
    "])"
   ]
  },
  {
   "cell_type": "code",
   "execution_count": 14,
   "id": "super-academy",
   "metadata": {},
   "outputs": [
    {
     "name": "stdout",
     "output_type": "stream",
     "text": [
      "Model: \"sequential_1\"\n",
      "_________________________________________________________________\n",
      "Layer (type)                 Output Shape              Param #   \n",
      "=================================================================\n",
      "dense_3 (Dense)              (None, 16)                32        \n",
      "_________________________________________________________________\n",
      "dense_4 (Dense)              (None, 32)                544       \n",
      "_________________________________________________________________\n",
      "dense_5 (Dense)              (None, 2)                 66        \n",
      "=================================================================\n",
      "Total params: 642\n",
      "Trainable params: 642\n",
      "Non-trainable params: 0\n",
      "_________________________________________________________________\n"
     ]
    }
   ],
   "source": [
    "model.summary()"
   ]
  },
  {
   "cell_type": "code",
   "execution_count": 15,
   "id": "destroyed-pasta",
   "metadata": {},
   "outputs": [],
   "source": [
    "model.compile(\n",
    "    optimizer=Adam(learning_rate=0.0001),\n",
    "    loss=\"sparse_categorical_crossentropy\",\n",
    "    metrics=[\"accuracy\"]\n",
    ")"
   ]
  },
  {
   "cell_type": "code",
   "execution_count": 16,
   "id": "toxic-disorder",
   "metadata": {
    "scrolled": true
   },
   "outputs": [
    {
     "name": "stdout",
     "output_type": "stream",
     "text": [
      "Epoch 1/30\n",
      "189/189 - 1s - loss: 0.6883 - accuracy: 0.4714 - val_loss: 0.6757 - val_accuracy: 0.5619\n",
      "Epoch 2/30\n",
      "189/189 - 0s - loss: 0.6653 - accuracy: 0.6048 - val_loss: 0.6465 - val_accuracy: 0.6810\n",
      "Epoch 3/30\n",
      "189/189 - 0s - loss: 0.6325 - accuracy: 0.6952 - val_loss: 0.6114 - val_accuracy: 0.7619\n",
      "Epoch 4/30\n",
      "189/189 - 0s - loss: 0.6008 - accuracy: 0.7492 - val_loss: 0.5808 - val_accuracy: 0.7810\n",
      "Epoch 5/30\n",
      "189/189 - 0s - loss: 0.5713 - accuracy: 0.7746 - val_loss: 0.5509 - val_accuracy: 0.8190\n",
      "Epoch 6/30\n",
      "189/189 - 0s - loss: 0.5412 - accuracy: 0.8106 - val_loss: 0.5199 - val_accuracy: 0.8238\n",
      "Epoch 7/30\n",
      "189/189 - 0s - loss: 0.5111 - accuracy: 0.8259 - val_loss: 0.4900 - val_accuracy: 0.8286\n",
      "Epoch 8/30\n",
      "189/189 - 0s - loss: 0.4816 - accuracy: 0.8481 - val_loss: 0.4618 - val_accuracy: 0.8476\n",
      "Epoch 9/30\n",
      "189/189 - 0s - loss: 0.4537 - accuracy: 0.8566 - val_loss: 0.4355 - val_accuracy: 0.8571\n",
      "Epoch 10/30\n",
      "189/189 - 0s - loss: 0.4278 - accuracy: 0.8730 - val_loss: 0.4113 - val_accuracy: 0.8762\n",
      "Epoch 11/30\n",
      "189/189 - 0s - loss: 0.4040 - accuracy: 0.8878 - val_loss: 0.3895 - val_accuracy: 0.8857\n",
      "Epoch 12/30\n",
      "189/189 - 0s - loss: 0.3829 - accuracy: 0.9063 - val_loss: 0.3704 - val_accuracy: 0.9000\n",
      "Epoch 13/30\n",
      "189/189 - 0s - loss: 0.3639 - accuracy: 0.9095 - val_loss: 0.3530 - val_accuracy: 0.9000\n",
      "Epoch 14/30\n",
      "189/189 - 0s - loss: 0.3473 - accuracy: 0.9201 - val_loss: 0.3380 - val_accuracy: 0.9000\n",
      "Epoch 15/30\n",
      "189/189 - 0s - loss: 0.3334 - accuracy: 0.9201 - val_loss: 0.3262 - val_accuracy: 0.9143\n",
      "Epoch 16/30\n",
      "189/189 - 0s - loss: 0.3215 - accuracy: 0.9265 - val_loss: 0.3162 - val_accuracy: 0.9238\n",
      "Epoch 17/30\n",
      "189/189 - 0s - loss: 0.3115 - accuracy: 0.9275 - val_loss: 0.3069 - val_accuracy: 0.9238\n",
      "Epoch 18/30\n",
      "189/189 - 0s - loss: 0.3030 - accuracy: 0.9275 - val_loss: 0.3005 - val_accuracy: 0.9429\n",
      "Epoch 19/30\n",
      "189/189 - 0s - loss: 0.2961 - accuracy: 0.9354 - val_loss: 0.2937 - val_accuracy: 0.9238\n",
      "Epoch 20/30\n",
      "189/189 - 0s - loss: 0.2899 - accuracy: 0.9339 - val_loss: 0.2885 - val_accuracy: 0.9429\n",
      "Epoch 21/30\n",
      "189/189 - 0s - loss: 0.2850 - accuracy: 0.9349 - val_loss: 0.2842 - val_accuracy: 0.9429\n",
      "Epoch 22/30\n",
      "189/189 - 0s - loss: 0.2803 - accuracy: 0.9376 - val_loss: 0.2805 - val_accuracy: 0.9429\n",
      "Epoch 23/30\n",
      "189/189 - 0s - loss: 0.2766 - accuracy: 0.9381 - val_loss: 0.2772 - val_accuracy: 0.9429\n",
      "Epoch 24/30\n",
      "189/189 - 0s - loss: 0.2734 - accuracy: 0.9381 - val_loss: 0.2745 - val_accuracy: 0.9429\n",
      "Epoch 25/30\n",
      "189/189 - 0s - loss: 0.2707 - accuracy: 0.9354 - val_loss: 0.2721 - val_accuracy: 0.9429\n",
      "Epoch 26/30\n",
      "189/189 - 0s - loss: 0.2680 - accuracy: 0.9381 - val_loss: 0.2700 - val_accuracy: 0.9429\n",
      "Epoch 27/30\n",
      "189/189 - 0s - loss: 0.2659 - accuracy: 0.9397 - val_loss: 0.2687 - val_accuracy: 0.9429\n",
      "Epoch 28/30\n",
      "189/189 - 0s - loss: 0.2640 - accuracy: 0.9439 - val_loss: 0.2669 - val_accuracy: 0.9429\n",
      "Epoch 29/30\n",
      "189/189 - 0s - loss: 0.2622 - accuracy: 0.9423 - val_loss: 0.2653 - val_accuracy: 0.9429\n",
      "Epoch 30/30\n",
      "189/189 - 0s - loss: 0.2608 - accuracy: 0.9402 - val_loss: 0.2646 - val_accuracy: 0.9429\n"
     ]
    },
    {
     "data": {
      "text/plain": [
       "<tensorflow.python.keras.callbacks.History at 0x7f355072b280>"
      ]
     },
     "execution_count": 16,
     "metadata": {},
     "output_type": "execute_result"
    }
   ],
   "source": [
    "model.fit(\n",
    "    x=scaled_train_samples,\n",
    "    y=train_labels,\n",
    "    validation_split=0.1, # Porcentaje de los valores que seran usados como testing set\n",
    "    batch_size=10,\n",
    "    epochs=30,\n",
    "    shuffle=True, # este Shuffle se hace DESPUES de partir el training/validation set\n",
    "    # se debe hacer shuffle antes para nos sesgar incorrectamente el modelo\n",
    "    verbose=2\n",
    ")"
   ]
  },
  {
   "cell_type": "markdown",
   "id": "universal-thunder",
   "metadata": {},
   "source": [
    "### Part 7 del tutorial de deeplizard para Keras\n",
    "\n",
    "link >> https://www.youtube.com/watch?v=q-HkgmJ4aR8&list=PLZbbT5o_s2xrwRnXk_yCPtnqqo4_u2YGL&index=7"
   ]
  },
  {
   "cell_type": "code",
   "execution_count": 17,
   "id": "medical-intervention",
   "metadata": {},
   "outputs": [],
   "source": [
    "test_labels  = []\n",
    "test_samples = []"
   ]
  },
  {
   "cell_type": "markdown",
   "id": "engaging-turning",
   "metadata": {},
   "source": [
    "## Creado del testing set \n",
    "\n",
    "5% de la poblacion joven tuvo efectos secundarios y 5% de la poblacion vieja no"
   ]
  },
  {
   "cell_type": "code",
   "execution_count": 18,
   "id": "published-pursuit",
   "metadata": {},
   "outputs": [],
   "source": [
    "for i in range(50):\n",
    "    # joven que tuvo efectos secundarios\n",
    "    test_samples.append(randint(13,64))\n",
    "    test_labels.append(1)\n",
    "    \n",
    "    # Viejo que no tuvo efectos secundarios\n",
    "    test_samples.append(randint(65,100))\n",
    "    test_labels.append(0)\n",
    "\n",
    "for i in range(1000):\n",
    "    # joven que no tuvo efectos secundarios\n",
    "    test_samples.append(randint(13,64))\n",
    "    test_labels.append(0)\n",
    "    \n",
    "    # Viejo que tuvo efectos secundarios\n",
    "    test_samples.append(randint(65,100))\n",
    "    test_labels.append(1)"
   ]
  },
  {
   "cell_type": "code",
   "execution_count": 19,
   "id": "regulated-season",
   "metadata": {},
   "outputs": [],
   "source": [
    "test_samples = np.array(test_samples)\n",
    "test_labels  = np.array(test_labels)\n",
    "test_labels, test_samples = shuffle(test_labels, test_samples)\n",
    "scaled_test_samples = scaler.fit_transform(test_samples.reshape(-1,1))"
   ]
  },
  {
   "cell_type": "markdown",
   "id": "living-theater",
   "metadata": {},
   "source": [
    "#### Usar el modelo entrenado para probar con el testing set"
   ]
  },
  {
   "cell_type": "code",
   "execution_count": 20,
   "id": "tight-proposal",
   "metadata": {},
   "outputs": [],
   "source": [
    "predictions = model.predict(x=scaled_test_samples, batch_size=10, verbose=0)"
   ]
  },
  {
   "cell_type": "markdown",
   "id": "unique-relation",
   "metadata": {},
   "source": [
    "## Explicacion\n",
    "\n",
    "Los valores que se encuentran en el arreglo regresado son probabilidades de estar en la condicion columna 0, columna 1, ..., columna n.\n",
    "\n",
    "Dado que nuestro modelo unicamente tiene 2 neuronas de salida, la probabilidad de estar en la columna 0 significa la probabilidad de que NO presente sintomas extra (porque el valor 0 es NO). \n",
    "\n",
    "Y la probabilidad de estar en la columna 1 es la probabilidad de que SI presente sintomas extra."
   ]
  },
  {
   "cell_type": "code",
   "execution_count": 21,
   "id": "expanded-bahrain",
   "metadata": {},
   "outputs": [
    {
     "name": "stdout",
     "output_type": "stream",
     "text": [
      "[[0.02547421 0.9745258 ]\n",
      " [0.9616637  0.03833628]\n",
      " [0.82541054 0.17458946]\n",
      " ...\n",
      " [0.08666598 0.9133341 ]\n",
      " [0.02052774 0.9794723 ]\n",
      " [0.616099   0.38390097]]\n"
     ]
    }
   ],
   "source": [
    "print(predictions)"
   ]
  },
  {
   "cell_type": "code",
   "execution_count": 22,
   "id": "handed-movie",
   "metadata": {},
   "outputs": [],
   "source": [
    "rounded_predictions = np.argmax(predictions, axis=-1)"
   ]
  },
  {
   "cell_type": "code",
   "execution_count": 23,
   "id": "artistic-thomas",
   "metadata": {},
   "outputs": [
    {
     "name": "stdout",
     "output_type": "stream",
     "text": [
      "[1 0 0 ... 1 1 0]\n"
     ]
    }
   ],
   "source": [
    "print(rounded_predictions)"
   ]
  },
  {
   "cell_type": "markdown",
   "id": "broke-partition",
   "metadata": {},
   "source": [
    "### Part 8 del tutorial de deeplizard para Keras\n",
    "\n",
    "link >> https://www.youtube.com/watch?v=VYGVOwlT4oE&list=PLZbbT5o_s2xrwRnXk_yCPtnqqo4_u2YGL&index=8"
   ]
  },
  {
   "cell_type": "markdown",
   "id": "cloudy-chart",
   "metadata": {},
   "source": [
    "### Confusion Matrix\n",
    "Con Matplotlib y SKLearn"
   ]
  },
  {
   "cell_type": "code",
   "execution_count": 24,
   "id": "distinct-andrews",
   "metadata": {},
   "outputs": [],
   "source": [
    "from sklearn.metrics import confusion_matrix\n",
    "import itertools\n",
    "from sklearn.metrics import ConfusionMatrixDisplay\n",
    "import matplotlib.pyplot as plt\n",
    "%matplotlib inline"
   ]
  },
  {
   "cell_type": "code",
   "execution_count": 25,
   "id": "bigger-hands",
   "metadata": {},
   "outputs": [],
   "source": [
    "cm = confusion_matrix(y_true=test_labels, y_pred=rounded_predictions)"
   ]
  },
  {
   "cell_type": "code",
   "execution_count": 26,
   "id": "important-radius",
   "metadata": {},
   "outputs": [
    {
     "data": {
      "text/plain": [
       "<sklearn.metrics._plot.confusion_matrix.ConfusionMatrixDisplay at 0x7f3500ed6760>"
      ]
     },
     "execution_count": 26,
     "metadata": {},
     "output_type": "execute_result"
    },
    {
     "data": {
      "image/png": "[encoded data removed]",
      "text/plain": [
       "<Figure size 432x288 with 2 Axes>"
      ]
     },
     "metadata": {
      "needs_background": "light"
     },
     "output_type": "display_data"
    }
   ],
   "source": [
    "cm_plot_labels = [\"no side effects\",\"had side effects\"]\n",
    "result = ConfusionMatrixDisplay(cm, display_labels=cm_plot_labels)\n",
    "result.plot()"
   ]
  },
  {
   "cell_type": "markdown",
   "id": "honey-missouri",
   "metadata": {},
   "source": [
    "### Part 9 del tutorial de deeplizard para Keras\n",
    "\n",
    "link >> https://www.youtube.com/watch?v=8Nl-of5C3uA&list=PLZbbT5o_s2xrwRnXk_yCPtnqqo4_u2YGL&index=9"
   ]
  },
  {
   "cell_type": "code",
   "execution_count": 27,
   "id": "boxed-announcement",
   "metadata": {},
   "outputs": [
    {
     "name": "stdout",
     "output_type": "stream",
     "text": [
      "Model: \"sequential_1\"\n",
      "_________________________________________________________________\n",
      "Layer (type)                 Output Shape              Param #   \n",
      "=================================================================\n",
      "dense_3 (Dense)              (None, 16)                32        \n",
      "_________________________________________________________________\n",
      "dense_4 (Dense)              (None, 32)                544       \n",
      "_________________________________________________________________\n",
      "dense_5 (Dense)              (None, 2)                 66        \n",
      "=================================================================\n",
      "Total params: 642\n",
      "Trainable params: 642\n",
      "Non-trainable params: 0\n",
      "_________________________________________________________________\n"
     ]
    }
   ],
   "source": [
    "model.summary()"
   ]
  },
  {
   "cell_type": "code",
   "execution_count": 28,
   "id": "senior-removal",
   "metadata": {},
   "outputs": [
    {
     "name": "stdout",
     "output_type": "stream",
     "text": [
      "Se ha sobreescrito el modelo anterior\n"
     ]
    }
   ],
   "source": [
    "import os.path\n",
    "\n",
    "FILENAME = \"models/medical_trail_model.h5\"\n",
    "\n",
    "if os.path.isfile(FILENAME) is True:\n",
    "    print(\"Se ha sobreescrito el modelo anterior\")\n",
    "model.save(FILENAME)"
   ]
  },
  {
   "cell_type": "markdown",
   "id": "listed-baltimore",
   "metadata": {},
   "source": [
    "Esta funcion se usa para:\n",
    " - Guardar la architectura que usa nuestro modelo\n",
    " - Guardar los pesos entrenados del modelo\n",
    " - Guardar la configuracion\n",
    " - Guardar el estado del optimizador, permitiendo continuar el entrenamiento donde se quedo"
   ]
  },
  {
   "cell_type": "code",
   "execution_count": 29,
   "id": "opposite-consistency",
   "metadata": {},
   "outputs": [],
   "source": [
    "from tensorflow.keras.models import load_model\n",
    "new_model = load_model(FILENAME)"
   ]
  },
  {
   "cell_type": "code",
   "execution_count": 30,
   "id": "junior-regulation",
   "metadata": {},
   "outputs": [
    {
     "name": "stdout",
     "output_type": "stream",
     "text": [
      "Model: \"sequential_1\"\n",
      "_________________________________________________________________\n",
      "Layer (type)                 Output Shape              Param #   \n",
      "=================================================================\n",
      "dense_3 (Dense)              (None, 16)                32        \n",
      "_________________________________________________________________\n",
      "dense_4 (Dense)              (None, 32)                544       \n",
      "_________________________________________________________________\n",
      "dense_5 (Dense)              (None, 2)                 66        \n",
      "=================================================================\n",
      "Total params: 642\n",
      "Trainable params: 642\n",
      "Non-trainable params: 0\n",
      "_________________________________________________________________\n"
     ]
    }
   ],
   "source": [
    "new_model.summary()"
   ]
  },
  {
   "cell_type": "code",
   "execution_count": 31,
   "id": "designing-yesterday",
   "metadata": {},
   "outputs": [
    {
     "data": {
      "text/plain": [
       "[array([[-0.31877097,  0.18405463,  0.3408505 , -0.56110215,  0.31025732,\n",
       "         -0.25287798, -0.38498867, -0.08639169, -0.06081465, -0.0240261 ,\n",
       "          0.54805666,  0.757798  ,  0.4582625 , -0.20952031, -0.2009443 ,\n",
       "          0.250699  ]], dtype=float32),\n",
       " array([ 0.        ,  0.193411  , -0.05382362,  0.        , -0.1065341 ,\n",
       "         0.        ,  0.        ,  0.        ,  0.23777844,  0.        ,\n",
       "        -0.12795024, -0.1298147 , -0.13924381,  0.        ,  0.        ,\n",
       "        -0.08782001], dtype=float32),\n",
       " array([[ 0.3360248 , -0.04573336, -0.08476919,  0.23289856,  0.0599393 ,\n",
       "         -0.00156391,  0.1016866 ,  0.20952353,  0.15855023, -0.15826175,\n",
       "         -0.09410083, -0.32459596,  0.04708654, -0.04921192,  0.20981327,\n",
       "          0.09471896, -0.2540605 ,  0.32192877, -0.193846  ,  0.29554203,\n",
       "         -0.1642627 , -0.04638252, -0.17439042, -0.14772908,  0.19634327,\n",
       "         -0.18432629,  0.19365117,  0.1290378 , -0.1356777 , -0.03158283,\n",
       "         -0.23162821, -0.32781735],\n",
       "        [-0.0057694 ,  0.18305378,  0.328181  ,  0.27089527,  0.04120974,\n",
       "         -0.20353545, -0.33306813, -0.26040843,  0.16517647,  0.31301877,\n",
       "         -0.2156801 ,  0.15038466,  0.40728757,  0.08275942, -0.27703592,\n",
       "          0.05309844, -0.20030932,  0.13565773,  0.15493406, -0.04072537,\n",
       "          0.22536069, -0.33098915, -0.0635201 ,  0.10642594, -0.3485526 ,\n",
       "          0.3993677 , -0.19314212, -0.13786156,  0.41113517, -0.03677728,\n",
       "          0.01834819,  0.17730017],\n",
       "        [ 0.31676483,  0.14510407,  0.5080102 , -0.34965953, -0.19999732,\n",
       "          0.27214754,  0.01564532, -0.16583402,  0.35137606,  0.19584595,\n",
       "         -0.31178278, -0.24395344,  0.14411533, -0.08220603,  0.28652877,\n",
       "         -0.1773434 ,  0.11740367, -0.11906914,  0.06503877,  0.00385046,\n",
       "         -0.00998536, -0.34171072,  0.5129931 ,  0.0627568 , -0.03157431,\n",
       "          0.20057164,  0.454706  , -0.1288925 , -0.26661882,  0.30373308,\n",
       "         -0.0303256 , -0.05094825],\n",
       "        [-0.27976632, -0.28660414, -0.02531585,  0.26576242,  0.3169103 ,\n",
       "         -0.08102798,  0.03604886,  0.31810376,  0.21515921,  0.17708549,\n",
       "          0.12999311, -0.14977725, -0.10791068, -0.16143414, -0.05078587,\n",
       "         -0.13225462, -0.26363367, -0.2152635 ,  0.31189463,  0.00551566,\n",
       "          0.05334753,  0.12169212,  0.09585416, -0.1562779 ,  0.33648923,\n",
       "         -0.01747197, -0.1044554 ,  0.18281457, -0.25560325,  0.02055779,\n",
       "          0.16424039, -0.2841915 ],\n",
       "        [ 0.24509588,  0.09269568,  0.33695486, -0.14479196, -0.26839417,\n",
       "         -0.5225781 ,  0.02164144,  0.27973005,  0.59472334,  0.6339803 ,\n",
       "          0.2775024 , -0.03193421,  0.14385979,  0.4450354 ,  0.29865748,\n",
       "         -0.00876519, -0.15287314, -0.10009271, -0.11958377,  0.00106891,\n",
       "         -0.13962439,  0.11960614,  0.13369589, -0.27874702, -0.19908118,\n",
       "         -0.3049327 ,  0.32243383, -0.30686834, -0.3979859 ,  0.17088905,\n",
       "          0.26151675, -0.5606484 ],\n",
       "        [-0.09169003, -0.29782665,  0.07745874, -0.30429375,  0.10935456,\n",
       "         -0.2313079 ,  0.0526458 ,  0.02607635,  0.12277082, -0.0185709 ,\n",
       "         -0.33380413, -0.2547198 , -0.09876078, -0.20061487,  0.02943569,\n",
       "         -0.01257789,  0.27723327, -0.12598164, -0.23775905, -0.047515  ,\n",
       "          0.26731977, -0.15728985,  0.23854849, -0.12385289,  0.22016165,\n",
       "         -0.11389309, -0.1703219 ,  0.04331568,  0.23763952, -0.16688204,\n",
       "          0.13714576, -0.33866265],\n",
       "        [-0.0203808 , -0.2829048 ,  0.33723876, -0.01221728, -0.34111813,\n",
       "          0.15396014,  0.11193553,  0.153959  ,  0.11270547,  0.30639794,\n",
       "          0.14745834, -0.1724284 ,  0.09874138, -0.13304588,  0.17738172,\n",
       "          0.07630688,  0.1900141 ,  0.22394982,  0.23210648, -0.009267  ,\n",
       "         -0.28854287,  0.15043965, -0.23265421,  0.03404099, -0.32834047,\n",
       "          0.12249997,  0.16337898, -0.1761052 ,  0.15390673, -0.35132837,\n",
       "         -0.13818696, -0.22832742],\n",
       "        [ 0.01270002, -0.13628133,  0.30654863,  0.12546283, -0.20437267,\n",
       "          0.18404719,  0.23440233,  0.00485331, -0.19154099,  0.28022173,\n",
       "          0.01073608,  0.31613514, -0.315683  ,  0.09390664,  0.12139067,\n",
       "          0.15588215,  0.03309304, -0.01229161, -0.3190868 , -0.01348454,\n",
       "          0.05325541, -0.1002396 ,  0.160889  , -0.1047066 , -0.10044992,\n",
       "          0.31054118,  0.22012803, -0.13929331, -0.3210676 , -0.298985  ,\n",
       "         -0.11707121,  0.26497725],\n",
       "        [-0.28011537, -0.03428366, -0.03831599, -0.02426009,  0.30368012,\n",
       "          0.4826528 ,  0.31524563, -0.08846387,  0.07970971,  0.00732148,\n",
       "         -0.3874346 ,  0.48723674, -0.25798744, -0.2014196 , -0.23727238,\n",
       "         -0.28713238,  0.5265936 , -0.15036191, -0.00566856, -0.20681006,\n",
       "          0.42268094, -0.18644994,  0.10093946, -0.3505636 ,  0.26410636,\n",
       "          0.40847558, -0.27416205,  0.2752048 ,  0.24503258,  0.08289885,\n",
       "          0.14214909,  0.48175186],\n",
       "        [ 0.09370914,  0.28320172, -0.07788292,  0.13564214, -0.01508832,\n",
       "         -0.19771221, -0.0363605 ,  0.28965667,  0.01135159, -0.09326068,\n",
       "          0.01486114, -0.15399818,  0.34668413,  0.1705651 , -0.06958142,\n",
       "          0.29632583,  0.09654182, -0.15813616,  0.10579517, -0.04302198,\n",
       "         -0.31868538, -0.35274702, -0.28818372,  0.30693212, -0.0548408 ,\n",
       "         -0.1898568 ,  0.10841569, -0.31177542, -0.01924232, -0.16170962,\n",
       "         -0.1540538 , -0.17587382],\n",
       "        [-0.2018466 , -0.01865006,  0.21108471, -0.4767347 , -0.49081233,\n",
       "         -0.26134345,  0.32272676, -0.14561981,  0.5640761 ,  0.34242356,\n",
       "         -0.10578084, -0.06841531,  0.3047997 ,  0.3545641 ,  0.25268432,\n",
       "          0.1415056 , -0.1462401 , -0.07034048,  0.12225711,  0.5656844 ,\n",
       "         -0.00594674, -0.08544344,  0.540045  , -0.07434782,  0.05906544,\n",
       "         -0.35905886,  0.44491482, -0.11485083, -0.12985024,  0.4153728 ,\n",
       "          0.04421712, -0.37435752],\n",
       "        [-0.20080486,  0.52512574,  0.25001556,  0.14432442,  0.17183356,\n",
       "         -0.05929824, -0.25232166, -0.21251814,  0.30148593,  0.20060982,\n",
       "          0.29052672, -0.31914684, -0.0394825 ,  0.18800926, -0.32735276,\n",
       "         -0.15420283, -0.4726862 , -0.09398013, -0.37859493,  0.29562286,\n",
       "          0.15863217,  0.27879408,  0.15536615, -0.33560136,  0.03778321,\n",
       "         -0.32688192,  0.32402393, -0.18818499, -0.28868112,  0.5239653 ,\n",
       "          0.40147156, -0.17712271],\n",
       "        [ 0.06264371,  0.22613956,  0.06124533, -0.06187882, -0.43867138,\n",
       "         -0.41015503,  0.10172965,  0.29735956,  0.05636984,  0.35359746,\n",
       "          0.06373281, -0.36856303,  0.5355303 ,  0.5248787 ,  0.11368559,\n",
       "         -0.34741125, -0.01061665, -0.2611279 , -0.06177323,  0.363116  ,\n",
       "         -0.07984895, -0.04698964,  0.25121647,  0.17180446,  0.12483506,\n",
       "         -0.54087174, -0.02639947,  0.02896967, -0.17786841,  0.15541767,\n",
       "          0.40881082, -0.00911437],\n",
       "        [ 0.2926313 ,  0.30364606, -0.17582266, -0.14179161, -0.00847363,\n",
       "         -0.04466984,  0.06333736, -0.20786454, -0.09819281,  0.11730978,\n",
       "         -0.1355795 ,  0.1938931 , -0.2644981 , -0.265095  ,  0.14297256,\n",
       "         -0.31796408, -0.27711046, -0.164991  ,  0.16399977,  0.03165507,\n",
       "          0.075169  ,  0.3258522 ,  0.00825009, -0.04592472,  0.2565777 ,\n",
       "          0.19841751, -0.2057368 ,  0.03823367,  0.00704551, -0.14335668,\n",
       "         -0.03084415,  0.25733712],\n",
       "        [ 0.25679705,  0.21894982,  0.29419073, -0.12380283, -0.02116919,\n",
       "         -0.07260257,  0.08984014,  0.06905323,  0.01076472, -0.14135024,\n",
       "          0.33977953,  0.09862101, -0.13735709, -0.28232184, -0.01989397,\n",
       "          0.18702248,  0.04885182, -0.14924763,  0.22233161,  0.24598089,\n",
       "          0.2654309 ,  0.35278252, -0.0063377 ,  0.03865927,  0.1828703 ,\n",
       "          0.21678022,  0.1002779 ,  0.12906402,  0.19999751, -0.27762827,\n",
       "          0.13048622,  0.06359151],\n",
       "        [-0.10804143,  0.35315454, -0.0154714 , -0.04896496, -0.27220133,\n",
       "         -0.43437585, -0.05763399,  0.12108722, -0.01467161,  0.5869942 ,\n",
       "         -0.22230661, -0.1049198 ,  0.37496984,  0.6169497 , -0.17073531,\n",
       "         -0.07218936, -0.13059036, -0.25316465, -0.3216281 ,  0.38359603,\n",
       "         -0.26526603,  0.07530902,  0.5484754 ,  0.01019301, -0.19788966,\n",
       "         -0.11147522,  0.35076007, -0.2863579 , -0.53075886,  0.14188169,\n",
       "          0.38731235, -0.30589783]], dtype=float32),\n",
       " array([-0.00053461, -0.10573743, -0.11490414,  0.09455904,  0.20720991,\n",
       "         0.24056473, -0.0126734 ,  0.        , -0.12588304, -0.12775333,\n",
       "        -0.00550487,  0.18334267, -0.07993447, -0.04362568, -0.00133773,\n",
       "         0.        ,  0.24902202,  0.        ,  0.1344134 , -0.04532669,\n",
       "         0.12301371, -0.00396047, -0.09904913, -0.00062421, -0.0064176 ,\n",
       "         0.21866073, -0.02492591, -0.04024887,  0.20821643, -0.098646  ,\n",
       "        -0.09169997,  0.17388517], dtype=float32),\n",
       " array([[-0.0490123 ,  0.30880818],\n",
       "        [-0.02466173,  0.5925286 ],\n",
       "        [-0.51415145,  0.45258403],\n",
       "        [ 0.14357308, -0.5435622 ],\n",
       "        [ 0.7024952 , -0.82622373],\n",
       "        [ 0.5345495 , -0.68636024],\n",
       "        [-0.17151575,  0.30843598],\n",
       "        [ 0.1789389 ,  0.2049047 ],\n",
       "        [-0.27422762,  0.18352786],\n",
       "        [-0.25901175,  0.21755467],\n",
       "        [ 0.1896097 , -0.32454342],\n",
       "        [ 0.687914  , -0.27466115],\n",
       "        [-0.58591765,  0.3847093 ],\n",
       "        [-0.54226977,  0.2943933 ],\n",
       "        [-0.26250845, -0.08341525],\n",
       "        [ 0.39941826, -0.07510915],\n",
       "        [ 0.5919188 , -0.29908112],\n",
       "        [ 0.08409896, -0.20425841],\n",
       "        [ 0.4527797 , -0.2671925 ],\n",
       "        [-0.3485535 ,  0.35702702],\n",
       "        [-0.01129369, -0.3967492 ],\n",
       "        [-0.16810912, -0.25403678],\n",
       "        [-0.27750126,  0.29363587],\n",
       "        [-0.2854177 ,  0.19294965],\n",
       "        [-0.28084448, -0.14214289],\n",
       "        [ 0.6940778 , -0.43719018],\n",
       "        [-0.5321672 ,  0.37473953],\n",
       "        [-0.07197084,  0.36248153],\n",
       "        [ 0.69445354, -0.71889395],\n",
       "        [-0.5479076 ,  0.23691572],\n",
       "        [-0.61766565,  0.28404614],\n",
       "        [ 0.6431371 , -0.20387344]], dtype=float32),\n",
       " array([ 0.12818857, -0.12818857], dtype=float32)]"
      ]
     },
     "execution_count": 31,
     "metadata": {},
     "output_type": "execute_result"
    }
   ],
   "source": [
    "new_model.get_weights()"
   ]
  },
  {
   "cell_type": "code",
   "execution_count": 32,
   "id": "foreign-vault",
   "metadata": {},
   "outputs": [
    {
     "data": {
      "text/plain": [
       "<tensorflow.python.keras.optimizer_v2.adam.Adam at 0x7f35580d1a30>"
      ]
     },
     "execution_count": 32,
     "metadata": {},
     "output_type": "execute_result"
    }
   ],
   "source": [
    "new_model.optimizer"
   ]
  },
  {
   "cell_type": "markdown",
   "id": "applied-movement",
   "metadata": {},
   "source": [
    "#### Model to JSON\n",
    "\n",
    "Esta forma no guarda los pesos, **solo la architectura**"
   ]
  },
  {
   "cell_type": "code",
   "execution_count": 33,
   "id": "ordered-recording",
   "metadata": {},
   "outputs": [],
   "source": [
    "# Save as JSON\n",
    "jsonString = model.to_json()\n",
    "\n",
    "# Save as YAML\n",
    "# yamlString = model.to_yaml()"
   ]
  },
  {
   "cell_type": "code",
   "execution_count": 34,
   "id": "described-delhi",
   "metadata": {},
   "outputs": [
    {
     "name": "stdout",
     "output_type": "stream",
     "text": [
      "Model: \"sequential_1\"\n",
      "_________________________________________________________________\n",
      "Layer (type)                 Output Shape              Param #   \n",
      "=================================================================\n",
      "dense_3 (Dense)              (None, 16)                32        \n",
      "_________________________________________________________________\n",
      "dense_4 (Dense)              (None, 32)                544       \n",
      "_________________________________________________________________\n",
      "dense_5 (Dense)              (None, 2)                 66        \n",
      "=================================================================\n",
      "Total params: 642\n",
      "Trainable params: 642\n",
      "Non-trainable params: 0\n",
      "_________________________________________________________________\n"
     ]
    }
   ],
   "source": [
    "from tensorflow.keras.models import model_from_json\n",
    "model_architecture = model_from_json(jsonString)\n",
    "\n",
    "# from tensorflow.keras.models import model_from_yaml\n",
    "# model_architecture = model_from_yaml(yamlString)\n",
    "\n",
    "model_architecture.summary()"
   ]
  },
  {
   "cell_type": "markdown",
   "id": "exposed-accounting",
   "metadata": {},
   "source": [
    "#### Save the weights\n",
    "\n",
    "Esta funcion solo guarda los pesos del modelo.\n",
    "\n",
    "Cuando se cargan en un modelo, este debe de tener la misma arquitectura que el de los pesos guardados. De otra forma salta un error."
   ]
  },
  {
   "cell_type": "code",
   "execution_count": 35,
   "id": "renewable-swift",
   "metadata": {},
   "outputs": [
    {
     "name": "stdout",
     "output_type": "stream",
     "text": [
      "Se han sobreescrito los pesos del modelo guardado\n"
     ]
    }
   ],
   "source": [
    "FILENAME_WEIGHTS = \"models/my_model_weights.h5\"\n",
    "if os.path.isfile(FILENAME_WEIGHTS) is True:\n",
    "    print(\"Se han sobreescrito los pesos del modelo guardado\")\n",
    "model.save_weights(FILENAME_WEIGHTS)"
   ]
  },
  {
   "cell_type": "code",
   "execution_count": 36,
   "id": "described-consolidation",
   "metadata": {},
   "outputs": [],
   "source": [
    "model2 = Sequential([\n",
    "    Dense(units=16, activation=\"relu\", input_shape=(1,)),\n",
    "    Dense(units=32, activation=\"relu\"),\n",
    "    Dense(units=2, activation=\"softmax\")\n",
    "])"
   ]
  },
  {
   "cell_type": "code",
   "execution_count": 37,
   "id": "freelance-collection",
   "metadata": {},
   "outputs": [],
   "source": [
    "model2.load_weights(FILENAME_WEIGHTS)"
   ]
  },
  {
   "cell_type": "code",
   "execution_count": 38,
   "id": "forced-exposure",
   "metadata": {},
   "outputs": [
    {
     "data": {
      "text/plain": [
       "[array([[-0.31877097,  0.18405463,  0.3408505 , -0.56110215,  0.31025732,\n",
       "         -0.25287798, -0.38498867, -0.08639169, -0.06081465, -0.0240261 ,\n",
       "          0.54805666,  0.757798  ,  0.4582625 , -0.20952031, -0.2009443 ,\n",
       "          0.250699  ]], dtype=float32),\n",
       " array([ 0.        ,  0.193411  , -0.05382362,  0.        , -0.1065341 ,\n",
       "         0.        ,  0.        ,  0.        ,  0.23777844,  0.        ,\n",
       "        -0.12795024, -0.1298147 , -0.13924381,  0.        ,  0.        ,\n",
       "        -0.08782001], dtype=float32),\n",
       " array([[ 0.3360248 , -0.04573336, -0.08476919,  0.23289856,  0.0599393 ,\n",
       "         -0.00156391,  0.1016866 ,  0.20952353,  0.15855023, -0.15826175,\n",
       "         -0.09410083, -0.32459596,  0.04708654, -0.04921192,  0.20981327,\n",
       "          0.09471896, -0.2540605 ,  0.32192877, -0.193846  ,  0.29554203,\n",
       "         -0.1642627 , -0.04638252, -0.17439042, -0.14772908,  0.19634327,\n",
       "         -0.18432629,  0.19365117,  0.1290378 , -0.1356777 , -0.03158283,\n",
       "         -0.23162821, -0.32781735],\n",
       "        [-0.0057694 ,  0.18305378,  0.328181  ,  0.27089527,  0.04120974,\n",
       "         -0.20353545, -0.33306813, -0.26040843,  0.16517647,  0.31301877,\n",
       "         -0.2156801 ,  0.15038466,  0.40728757,  0.08275942, -0.27703592,\n",
       "          0.05309844, -0.20030932,  0.13565773,  0.15493406, -0.04072537,\n",
       "          0.22536069, -0.33098915, -0.0635201 ,  0.10642594, -0.3485526 ,\n",
       "          0.3993677 , -0.19314212, -0.13786156,  0.41113517, -0.03677728,\n",
       "          0.01834819,  0.17730017],\n",
       "        [ 0.31676483,  0.14510407,  0.5080102 , -0.34965953, -0.19999732,\n",
       "          0.27214754,  0.01564532, -0.16583402,  0.35137606,  0.19584595,\n",
       "         -0.31178278, -0.24395344,  0.14411533, -0.08220603,  0.28652877,\n",
       "         -0.1773434 ,  0.11740367, -0.11906914,  0.06503877,  0.00385046,\n",
       "         -0.00998536, -0.34171072,  0.5129931 ,  0.0627568 , -0.03157431,\n",
       "          0.20057164,  0.454706  , -0.1288925 , -0.26661882,  0.30373308,\n",
       "         -0.0303256 , -0.05094825],\n",
       "        [-0.27976632, -0.28660414, -0.02531585,  0.26576242,  0.3169103 ,\n",
       "         -0.08102798,  0.03604886,  0.31810376,  0.21515921,  0.17708549,\n",
       "          0.12999311, -0.14977725, -0.10791068, -0.16143414, -0.05078587,\n",
       "         -0.13225462, -0.26363367, -0.2152635 ,  0.31189463,  0.00551566,\n",
       "          0.05334753,  0.12169212,  0.09585416, -0.1562779 ,  0.33648923,\n",
       "         -0.01747197, -0.1044554 ,  0.18281457, -0.25560325,  0.02055779,\n",
       "          0.16424039, -0.2841915 ],\n",
       "        [ 0.24509588,  0.09269568,  0.33695486, -0.14479196, -0.26839417,\n",
       "         -0.5225781 ,  0.02164144,  0.27973005,  0.59472334,  0.6339803 ,\n",
       "          0.2775024 , -0.03193421,  0.14385979,  0.4450354 ,  0.29865748,\n",
       "         -0.00876519, -0.15287314, -0.10009271, -0.11958377,  0.00106891,\n",
       "         -0.13962439,  0.11960614,  0.13369589, -0.27874702, -0.19908118,\n",
       "         -0.3049327 ,  0.32243383, -0.30686834, -0.3979859 ,  0.17088905,\n",
       "          0.26151675, -0.5606484 ],\n",
       "        [-0.09169003, -0.29782665,  0.07745874, -0.30429375,  0.10935456,\n",
       "         -0.2313079 ,  0.0526458 ,  0.02607635,  0.12277082, -0.0185709 ,\n",
       "         -0.33380413, -0.2547198 , -0.09876078, -0.20061487,  0.02943569,\n",
       "         -0.01257789,  0.27723327, -0.12598164, -0.23775905, -0.047515  ,\n",
       "          0.26731977, -0.15728985,  0.23854849, -0.12385289,  0.22016165,\n",
       "         -0.11389309, -0.1703219 ,  0.04331568,  0.23763952, -0.16688204,\n",
       "          0.13714576, -0.33866265],\n",
       "        [-0.0203808 , -0.2829048 ,  0.33723876, -0.01221728, -0.34111813,\n",
       "          0.15396014,  0.11193553,  0.153959  ,  0.11270547,  0.30639794,\n",
       "          0.14745834, -0.1724284 ,  0.09874138, -0.13304588,  0.17738172,\n",
       "          0.07630688,  0.1900141 ,  0.22394982,  0.23210648, -0.009267  ,\n",
       "         -0.28854287,  0.15043965, -0.23265421,  0.03404099, -0.32834047,\n",
       "          0.12249997,  0.16337898, -0.1761052 ,  0.15390673, -0.35132837,\n",
       "         -0.13818696, -0.22832742],\n",
       "        [ 0.01270002, -0.13628133,  0.30654863,  0.12546283, -0.20437267,\n",
       "          0.18404719,  0.23440233,  0.00485331, -0.19154099,  0.28022173,\n",
       "          0.01073608,  0.31613514, -0.315683  ,  0.09390664,  0.12139067,\n",
       "          0.15588215,  0.03309304, -0.01229161, -0.3190868 , -0.01348454,\n",
       "          0.05325541, -0.1002396 ,  0.160889  , -0.1047066 , -0.10044992,\n",
       "          0.31054118,  0.22012803, -0.13929331, -0.3210676 , -0.298985  ,\n",
       "         -0.11707121,  0.26497725],\n",
       "        [-0.28011537, -0.03428366, -0.03831599, -0.02426009,  0.30368012,\n",
       "          0.4826528 ,  0.31524563, -0.08846387,  0.07970971,  0.00732148,\n",
       "         -0.3874346 ,  0.48723674, -0.25798744, -0.2014196 , -0.23727238,\n",
       "         -0.28713238,  0.5265936 , -0.15036191, -0.00566856, -0.20681006,\n",
       "          0.42268094, -0.18644994,  0.10093946, -0.3505636 ,  0.26410636,\n",
       "          0.40847558, -0.27416205,  0.2752048 ,  0.24503258,  0.08289885,\n",
       "          0.14214909,  0.48175186],\n",
       "        [ 0.09370914,  0.28320172, -0.07788292,  0.13564214, -0.01508832,\n",
       "         -0.19771221, -0.0363605 ,  0.28965667,  0.01135159, -0.09326068,\n",
       "          0.01486114, -0.15399818,  0.34668413,  0.1705651 , -0.06958142,\n",
       "          0.29632583,  0.09654182, -0.15813616,  0.10579517, -0.04302198,\n",
       "         -0.31868538, -0.35274702, -0.28818372,  0.30693212, -0.0548408 ,\n",
       "         -0.1898568 ,  0.10841569, -0.31177542, -0.01924232, -0.16170962,\n",
       "         -0.1540538 , -0.17587382],\n",
       "        [-0.2018466 , -0.01865006,  0.21108471, -0.4767347 , -0.49081233,\n",
       "         -0.26134345,  0.32272676, -0.14561981,  0.5640761 ,  0.34242356,\n",
       "         -0.10578084, -0.06841531,  0.3047997 ,  0.3545641 ,  0.25268432,\n",
       "          0.1415056 , -0.1462401 , -0.07034048,  0.12225711,  0.5656844 ,\n",
       "         -0.00594674, -0.08544344,  0.540045  , -0.07434782,  0.05906544,\n",
       "         -0.35905886,  0.44491482, -0.11485083, -0.12985024,  0.4153728 ,\n",
       "          0.04421712, -0.37435752],\n",
       "        [-0.20080486,  0.52512574,  0.25001556,  0.14432442,  0.17183356,\n",
       "         -0.05929824, -0.25232166, -0.21251814,  0.30148593,  0.20060982,\n",
       "          0.29052672, -0.31914684, -0.0394825 ,  0.18800926, -0.32735276,\n",
       "         -0.15420283, -0.4726862 , -0.09398013, -0.37859493,  0.29562286,\n",
       "          0.15863217,  0.27879408,  0.15536615, -0.33560136,  0.03778321,\n",
       "         -0.32688192,  0.32402393, -0.18818499, -0.28868112,  0.5239653 ,\n",
       "          0.40147156, -0.17712271],\n",
       "        [ 0.06264371,  0.22613956,  0.06124533, -0.06187882, -0.43867138,\n",
       "         -0.41015503,  0.10172965,  0.29735956,  0.05636984,  0.35359746,\n",
       "          0.06373281, -0.36856303,  0.5355303 ,  0.5248787 ,  0.11368559,\n",
       "         -0.34741125, -0.01061665, -0.2611279 , -0.06177323,  0.363116  ,\n",
       "         -0.07984895, -0.04698964,  0.25121647,  0.17180446,  0.12483506,\n",
       "         -0.54087174, -0.02639947,  0.02896967, -0.17786841,  0.15541767,\n",
       "          0.40881082, -0.00911437],\n",
       "        [ 0.2926313 ,  0.30364606, -0.17582266, -0.14179161, -0.00847363,\n",
       "         -0.04466984,  0.06333736, -0.20786454, -0.09819281,  0.11730978,\n",
       "         -0.1355795 ,  0.1938931 , -0.2644981 , -0.265095  ,  0.14297256,\n",
       "         -0.31796408, -0.27711046, -0.164991  ,  0.16399977,  0.03165507,\n",
       "          0.075169  ,  0.3258522 ,  0.00825009, -0.04592472,  0.2565777 ,\n",
       "          0.19841751, -0.2057368 ,  0.03823367,  0.00704551, -0.14335668,\n",
       "         -0.03084415,  0.25733712],\n",
       "        [ 0.25679705,  0.21894982,  0.29419073, -0.12380283, -0.02116919,\n",
       "         -0.07260257,  0.08984014,  0.06905323,  0.01076472, -0.14135024,\n",
       "          0.33977953,  0.09862101, -0.13735709, -0.28232184, -0.01989397,\n",
       "          0.18702248,  0.04885182, -0.14924763,  0.22233161,  0.24598089,\n",
       "          0.2654309 ,  0.35278252, -0.0063377 ,  0.03865927,  0.1828703 ,\n",
       "          0.21678022,  0.1002779 ,  0.12906402,  0.19999751, -0.27762827,\n",
       "          0.13048622,  0.06359151],\n",
       "        [-0.10804143,  0.35315454, -0.0154714 , -0.04896496, -0.27220133,\n",
       "         -0.43437585, -0.05763399,  0.12108722, -0.01467161,  0.5869942 ,\n",
       "         -0.22230661, -0.1049198 ,  0.37496984,  0.6169497 , -0.17073531,\n",
       "         -0.07218936, -0.13059036, -0.25316465, -0.3216281 ,  0.38359603,\n",
       "         -0.26526603,  0.07530902,  0.5484754 ,  0.01019301, -0.19788966,\n",
       "         -0.11147522,  0.35076007, -0.2863579 , -0.53075886,  0.14188169,\n",
       "          0.38731235, -0.30589783]], dtype=float32),\n",
       " array([-0.00053461, -0.10573743, -0.11490414,  0.09455904,  0.20720991,\n",
       "         0.24056473, -0.0126734 ,  0.        , -0.12588304, -0.12775333,\n",
       "        -0.00550487,  0.18334267, -0.07993447, -0.04362568, -0.00133773,\n",
       "         0.        ,  0.24902202,  0.        ,  0.1344134 , -0.04532669,\n",
       "         0.12301371, -0.00396047, -0.09904913, -0.00062421, -0.0064176 ,\n",
       "         0.21866073, -0.02492591, -0.04024887,  0.20821643, -0.098646  ,\n",
       "        -0.09169997,  0.17388517], dtype=float32),\n",
       " array([[-0.0490123 ,  0.30880818],\n",
       "        [-0.02466173,  0.5925286 ],\n",
       "        [-0.51415145,  0.45258403],\n",
       "        [ 0.14357308, -0.5435622 ],\n",
       "        [ 0.7024952 , -0.82622373],\n",
       "        [ 0.5345495 , -0.68636024],\n",
       "        [-0.17151575,  0.30843598],\n",
       "        [ 0.1789389 ,  0.2049047 ],\n",
       "        [-0.27422762,  0.18352786],\n",
       "        [-0.25901175,  0.21755467],\n",
       "        [ 0.1896097 , -0.32454342],\n",
       "        [ 0.687914  , -0.27466115],\n",
       "        [-0.58591765,  0.3847093 ],\n",
       "        [-0.54226977,  0.2943933 ],\n",
       "        [-0.26250845, -0.08341525],\n",
       "        [ 0.39941826, -0.07510915],\n",
       "        [ 0.5919188 , -0.29908112],\n",
       "        [ 0.08409896, -0.20425841],\n",
       "        [ 0.4527797 , -0.2671925 ],\n",
       "        [-0.3485535 ,  0.35702702],\n",
       "        [-0.01129369, -0.3967492 ],\n",
       "        [-0.16810912, -0.25403678],\n",
       "        [-0.27750126,  0.29363587],\n",
       "        [-0.2854177 ,  0.19294965],\n",
       "        [-0.28084448, -0.14214289],\n",
       "        [ 0.6940778 , -0.43719018],\n",
       "        [-0.5321672 ,  0.37473953],\n",
       "        [-0.07197084,  0.36248153],\n",
       "        [ 0.69445354, -0.71889395],\n",
       "        [-0.5479076 ,  0.23691572],\n",
       "        [-0.61766565,  0.28404614],\n",
       "        [ 0.6431371 , -0.20387344]], dtype=float32),\n",
       " array([ 0.12818857, -0.12818857], dtype=float32)]"
      ]
     },
     "execution_count": 38,
     "metadata": {},
     "output_type": "execute_result"
    }
   ],
   "source": [
    "model2.get_weights()"
   ]
  }
 ],
 "metadata": {
  "kernelspec": {
   "display_name": "Python 3",
   "language": "python",
   "name": "python3"
  },
  "language_info": {
   "codemirror_mode": {
    "name": "ipython",
    "version": 3
   },
   "file_extension": ".py",
   "mimetype": "text/x-python",
   "name": "python",
   "nbconvert_exporter": "python",
   "pygments_lexer": "ipython3",
   "version": "3.8.5"
  }
 },
 "nbformat": 4,
 "nbformat_minor": 5
}
