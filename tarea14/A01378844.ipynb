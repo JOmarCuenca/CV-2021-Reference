{
 "cells": [
  {
   "cell_type": "markdown",
   "id": "therapeutic-breath",
   "metadata": {},
   "source": [
    "# Tarea 14 Aprendiendo Keras"
   ]
  },
  {
   "cell_type": "markdown",
   "id": "wrapped-evaluation",
   "metadata": {},
   "source": [
    "## Part 3 of deeplizard tutorial on Keras\n",
    "\n",
    "link >> https://www.youtube.com/watch?v=3FwGDUD_ZuQ&list=PLZbbT5o_s2xrwRnXk_yCPtnqqo4_u2YGL&index=3"
   ]
  },
  {
   "cell_type": "code",
   "execution_count": 1,
   "id": "innocent-founder",
   "metadata": {},
   "outputs": [],
   "source": [
    "import numpy as np\n",
    "from random import randint\n",
    "from sklearn.utils import shuffle\n",
    "from sklearn.preprocessing import MinMaxScaler"
   ]
  },
  {
   "cell_type": "code",
   "execution_count": 2,
   "id": "gentle-aging",
   "metadata": {},
   "outputs": [],
   "source": [
    "train_labels  = []\n",
    "train_samples = []"
   ]
  },
  {
   "cell_type": "markdown",
   "id": "distinct-verification",
   "metadata": {},
   "source": [
    "## Creado del training set \n",
    "\n",
    "5% de la poblacion joven tuvo efectos secundarios y 5% de la poblacion vieja no"
   ]
  },
  {
   "cell_type": "code",
   "execution_count": 3,
   "id": "national-bristol",
   "metadata": {},
   "outputs": [],
   "source": [
    "for i in range(50):\n",
    "    # joven que tuvo efectos secundarios\n",
    "    train_samples.append(randint(13,64))\n",
    "    train_labels.append(1)\n",
    "    \n",
    "    # Viejo que no tuvo efectos secundarios\n",
    "    train_samples.append(randint(65,100))\n",
    "    train_labels.append(0)"
   ]
  },
  {
   "cell_type": "code",
   "execution_count": 4,
   "id": "stretch-seattle",
   "metadata": {},
   "outputs": [],
   "source": [
    "for i in range(1000):\n",
    "    # joven que no tuvo efectos secundarios\n",
    "    train_samples.append(randint(13,64))\n",
    "    train_labels.append(0)\n",
    "    \n",
    "    # Viejo que tuvo efectos secundarios\n",
    "    train_samples.append(randint(65,100))\n",
    "    train_labels.append(1)"
   ]
  },
  {
   "cell_type": "markdown",
   "id": "incorporate-secretariat",
   "metadata": {},
   "source": [
    "## De array normal a numpy array"
   ]
  },
  {
   "cell_type": "code",
   "execution_count": 5,
   "id": "infectious-circle",
   "metadata": {},
   "outputs": [],
   "source": [
    "train_labels = np.array(train_labels)\n",
    "train_samples = np.array(train_samples)\n",
    "train_labels, train_samples = shuffle(train_labels, train_samples)"
   ]
  },
  {
   "cell_type": "markdown",
   "id": "fuzzy-sender",
   "metadata": {},
   "source": [
    "### Reduccion del alcance de los numeros para facilitar operaciones"
   ]
  },
  {
   "cell_type": "code",
   "execution_count": 6,
   "id": "ambient-victory",
   "metadata": {},
   "outputs": [],
   "source": [
    "scaler = MinMaxScaler(feature_range=(0,1))\n",
    "scaled_train_samples = scaler.fit_transform(train_samples.reshape(-1,1))"
   ]
  },
  {
   "cell_type": "code",
   "execution_count": 7,
   "id": "pharmaceutical-stand",
   "metadata": {},
   "outputs": [
    {
     "name": "stdout",
     "output_type": "stream",
     "text": [
      "[[0.25287356]\n",
      " [0.75862069]\n",
      " [0.6091954 ]\n",
      " ...\n",
      " [0.25287356]\n",
      " [0.59770115]\n",
      " [0.59770115]]\n"
     ]
    }
   ],
   "source": [
    "print(scaled_train_samples)"
   ]
  },
  {
   "cell_type": "markdown",
   "id": "separate-negotiation",
   "metadata": {},
   "source": [
    "## Part 4 del tutorial de deeplizard para Keras\n",
    "\n",
    "link >> https://www.youtube.com/watch?v=HrfrN3hn7QE&list=PLZbbT5o_s2xrwRnXk_yCPtnqqo4_u2YGL&index=4"
   ]
  },
  {
   "cell_type": "code",
   "execution_count": 8,
   "id": "extensive-scanning",
   "metadata": {},
   "outputs": [],
   "source": [
    "import tensorflow as tf\n",
    "from tensorflow import keras\n",
    "from tensorflow.keras.models import Sequential\n",
    "from tensorflow.keras.layers import Activation, Dense\n",
    "from tensorflow.keras.optimizers import Adam\n",
    "from tensorflow.keras.metrics import categorical_crossentropy"
   ]
  },
  {
   "cell_type": "markdown",
   "id": "meaning-greece",
   "metadata": {},
   "source": [
    "Pongo esta nota por si se requiere habilitar GPU\n",
    "\n",
    "Pero dado que mi computadora no tiene una GPU lo voy a dejar como un raw text"
   ]
  },
  {
   "cell_type": "raw",
   "id": "english-salon",
   "metadata": {},
   "source": [
    "physical_devices = tf.config.experimental.list_physical_devices(\"GPU\")\n",
    "print(\"Num GPUs Available: \", len(physical_devices))\n",
    "tf.config.experimental.set_memory_growth(physical_devices[0], True)"
   ]
  },
  {
   "cell_type": "code",
   "execution_count": 9,
   "id": "fleet-consistency",
   "metadata": {},
   "outputs": [],
   "source": [
    "model = Sequential([\n",
    "    Dense(units=16, input_shape=(1,), activation=\"relu\"),\n",
    "    Dense(units=32, activation=\"relu\"),\n",
    "    Dense(units=2, activation=\"softmax\")\n",
    "])"
   ]
  },
  {
   "cell_type": "code",
   "execution_count": 10,
   "id": "traditional-lightweight",
   "metadata": {},
   "outputs": [
    {
     "name": "stdout",
     "output_type": "stream",
     "text": [
      "Model: \"sequential\"\n",
      "_________________________________________________________________\n",
      "Layer (type)                 Output Shape              Param #   \n",
      "=================================================================\n",
      "dense (Dense)                (None, 16)                32        \n",
      "_________________________________________________________________\n",
      "dense_1 (Dense)              (None, 32)                544       \n",
      "_________________________________________________________________\n",
      "dense_2 (Dense)              (None, 2)                 66        \n",
      "=================================================================\n",
      "Total params: 642\n",
      "Trainable params: 642\n",
      "Non-trainable params: 0\n",
      "_________________________________________________________________\n"
     ]
    }
   ],
   "source": [
    "model.summary()"
   ]
  },
  {
   "cell_type": "markdown",
   "id": "stainless-pharmacology",
   "metadata": {},
   "source": [
    "### Part 5 del tutorial de deeplizard para Keras\n",
    "\n",
    "link >> https://www.youtube.com/watch?v=I8eI4ZhcYdM&list=PLZbbT5o_s2xrwRnXk_yCPtnqqo4_u2YGL&index=5"
   ]
  },
  {
   "cell_type": "markdown",
   "id": "proper-broadcasting",
   "metadata": {},
   "source": [
    "Compilamos el modelo, se prepara para usarse y entrenarse"
   ]
  },
  {
   "cell_type": "code",
   "execution_count": 11,
   "id": "aerial-plymouth",
   "metadata": {},
   "outputs": [],
   "source": [
    "model.compile(\n",
    "    optimizer=Adam(learning_rate=0.0001),\n",
    "    loss=\"sparse_categorical_crossentropy\",\n",
    "    metrics=[\"accuracy\"]\n",
    ")"
   ]
  },
  {
   "cell_type": "markdown",
   "id": "prepared-insurance",
   "metadata": {},
   "source": [
    "Entrenamos el modelo"
   ]
  },
  {
   "cell_type": "code",
   "execution_count": 12,
   "id": "analyzed-conditioning",
   "metadata": {},
   "outputs": [
    {
     "name": "stdout",
     "output_type": "stream",
     "text": [
      "Epoch 1/30\n",
      "210/210 - 1s - loss: 0.7082 - accuracy: 0.4248\n",
      "Epoch 2/30\n",
      "210/210 - 1s - loss: 0.6710 - accuracy: 0.5757\n",
      "Epoch 3/30\n",
      "210/210 - 1s - loss: 0.6392 - accuracy: 0.6638\n",
      "Epoch 4/30\n",
      "210/210 - 1s - loss: 0.6091 - accuracy: 0.7195\n",
      "Epoch 5/30\n",
      "210/210 - 1s - loss: 0.5764 - accuracy: 0.7648\n",
      "Epoch 6/30\n",
      "210/210 - 1s - loss: 0.5403 - accuracy: 0.8062\n",
      "Epoch 7/30\n",
      "210/210 - 1s - loss: 0.5057 - accuracy: 0.8305\n",
      "Epoch 8/30\n",
      "210/210 - 1s - loss: 0.4728 - accuracy: 0.8533\n",
      "Epoch 9/30\n",
      "210/210 - 0s - loss: 0.4422 - accuracy: 0.8638\n",
      "Epoch 10/30\n",
      "210/210 - 0s - loss: 0.4140 - accuracy: 0.8719\n",
      "Epoch 11/30\n",
      "210/210 - 1s - loss: 0.3896 - accuracy: 0.8876\n",
      "Epoch 12/30\n",
      "210/210 - 0s - loss: 0.3683 - accuracy: 0.8943\n",
      "Epoch 13/30\n",
      "210/210 - 0s - loss: 0.3499 - accuracy: 0.8986\n",
      "Epoch 14/30\n",
      "210/210 - 0s - loss: 0.3342 - accuracy: 0.9024\n",
      "Epoch 15/30\n",
      "210/210 - 0s - loss: 0.3214 - accuracy: 0.9133\n",
      "Epoch 16/30\n",
      "210/210 - 0s - loss: 0.3104 - accuracy: 0.9129\n",
      "Epoch 17/30\n",
      "210/210 - 0s - loss: 0.3015 - accuracy: 0.9162\n",
      "Epoch 18/30\n",
      "210/210 - 1s - loss: 0.2940 - accuracy: 0.9176\n",
      "Epoch 19/30\n",
      "210/210 - 1s - loss: 0.2877 - accuracy: 0.9195\n",
      "Epoch 20/30\n",
      "210/210 - 1s - loss: 0.2824 - accuracy: 0.9219\n",
      "Epoch 21/30\n",
      "210/210 - 1s - loss: 0.2778 - accuracy: 0.9281\n",
      "Epoch 22/30\n",
      "210/210 - 1s - loss: 0.2739 - accuracy: 0.9257\n",
      "Epoch 23/30\n",
      "210/210 - 1s - loss: 0.2703 - accuracy: 0.9281\n",
      "Epoch 24/30\n",
      "210/210 - 0s - loss: 0.2678 - accuracy: 0.9314\n",
      "Epoch 25/30\n",
      "210/210 - 1s - loss: 0.2653 - accuracy: 0.9343\n",
      "Epoch 26/30\n",
      "210/210 - 0s - loss: 0.2632 - accuracy: 0.9314\n",
      "Epoch 27/30\n",
      "210/210 - 1s - loss: 0.2612 - accuracy: 0.9314\n",
      "Epoch 28/30\n",
      "210/210 - 0s - loss: 0.2596 - accuracy: 0.9343\n",
      "Epoch 29/30\n",
      "210/210 - 0s - loss: 0.2581 - accuracy: 0.9338\n",
      "Epoch 30/30\n",
      "210/210 - 1s - loss: 0.2567 - accuracy: 0.9367\n"
     ]
    },
    {
     "data": {
      "text/plain": [
       "<tensorflow.python.keras.callbacks.History at 0x7feffc226220>"
      ]
     },
     "execution_count": 12,
     "metadata": {},
     "output_type": "execute_result"
    }
   ],
   "source": [
    "model.fit(\n",
    "    x=scaled_train_samples,\n",
    "    y=train_labels,\n",
    "    batch_size=10,\n",
    "    epochs=30,\n",
    "    shuffle=True,\n",
    "    verbose=2\n",
    ")"
   ]
  },
  {
   "cell_type": "markdown",
   "id": "novel-beijing",
   "metadata": {},
   "source": [
    "### Part 6 del tutorial de deeplizard para Keras\n",
    "\n",
    "link >> https://www.youtube.com/watch?v=U8Ixc2OLSkQ&list=PLZbbT5o_s2xrwRnXk_yCPtnqqo4_u2YGL&index=6"
   ]
  },
  {
   "cell_type": "markdown",
   "id": "wireless-preparation",
   "metadata": {},
   "source": [
    "Armamos un modelo diferente pero con la misma estructura"
   ]
  },
  {
   "cell_type": "code",
   "execution_count": 13,
   "id": "lightweight-wichita",
   "metadata": {},
   "outputs": [],
   "source": [
    "model = Sequential([\n",
    "    Dense(units=16, input_shape=(1,), activation=\"relu\"),\n",
    "    Dense(units=32, activation=\"relu\"),\n",
    "    Dense(units=2, activation=\"softmax\")\n",
    "])"
   ]
  },
  {
   "cell_type": "code",
   "execution_count": 14,
   "id": "super-academy",
   "metadata": {},
   "outputs": [
    {
     "name": "stdout",
     "output_type": "stream",
     "text": [
      "Model: \"sequential_1\"\n",
      "_________________________________________________________________\n",
      "Layer (type)                 Output Shape              Param #   \n",
      "=================================================================\n",
      "dense_3 (Dense)              (None, 16)                32        \n",
      "_________________________________________________________________\n",
      "dense_4 (Dense)              (None, 32)                544       \n",
      "_________________________________________________________________\n",
      "dense_5 (Dense)              (None, 2)                 66        \n",
      "=================================================================\n",
      "Total params: 642\n",
      "Trainable params: 642\n",
      "Non-trainable params: 0\n",
      "_________________________________________________________________\n"
     ]
    }
   ],
   "source": [
    "model.summary()"
   ]
  },
  {
   "cell_type": "code",
   "execution_count": 15,
   "id": "destroyed-pasta",
   "metadata": {},
   "outputs": [],
   "source": [
    "model.compile(\n",
    "    optimizer=Adam(learning_rate=0.0001),\n",
    "    loss=\"sparse_categorical_crossentropy\",\n",
    "    metrics=[\"accuracy\"]\n",
    ")"
   ]
  },
  {
   "cell_type": "code",
   "execution_count": 16,
   "id": "toxic-disorder",
   "metadata": {
    "scrolled": true
   },
   "outputs": [
    {
     "name": "stdout",
     "output_type": "stream",
     "text": [
      "Epoch 1/30\n",
      "189/189 - 1s - loss: 0.6343 - accuracy: 0.5561 - val_loss: 0.6382 - val_accuracy: 0.5667\n",
      "Epoch 2/30\n",
      "189/189 - 1s - loss: 0.6137 - accuracy: 0.6238 - val_loss: 0.6171 - val_accuracy: 0.6476\n",
      "Epoch 3/30\n",
      "189/189 - 0s - loss: 0.5886 - accuracy: 0.6857 - val_loss: 0.5879 - val_accuracy: 0.7095\n",
      "Epoch 4/30\n",
      "189/189 - 1s - loss: 0.5591 - accuracy: 0.7376 - val_loss: 0.5592 - val_accuracy: 0.7333\n",
      "Epoch 5/30\n",
      "189/189 - 1s - loss: 0.5306 - accuracy: 0.7635 - val_loss: 0.5283 - val_accuracy: 0.8000\n",
      "Epoch 6/30\n",
      "189/189 - 1s - loss: 0.5005 - accuracy: 0.8101 - val_loss: 0.4958 - val_accuracy: 0.8286\n",
      "Epoch 7/30\n",
      "189/189 - 0s - loss: 0.4702 - accuracy: 0.8360 - val_loss: 0.4645 - val_accuracy: 0.8429\n",
      "Epoch 8/30\n",
      "189/189 - 1s - loss: 0.4415 - accuracy: 0.8508 - val_loss: 0.4353 - val_accuracy: 0.8571\n",
      "Epoch 9/30\n",
      "189/189 - 1s - loss: 0.4150 - accuracy: 0.8593 - val_loss: 0.4076 - val_accuracy: 0.8619\n",
      "Epoch 10/30\n",
      "189/189 - 1s - loss: 0.3909 - accuracy: 0.8794 - val_loss: 0.3835 - val_accuracy: 0.8714\n",
      "Epoch 11/30\n",
      "189/189 - 1s - loss: 0.3697 - accuracy: 0.8894 - val_loss: 0.3625 - val_accuracy: 0.8762\n",
      "Epoch 12/30\n",
      "189/189 - 1s - loss: 0.3514 - accuracy: 0.9011 - val_loss: 0.3446 - val_accuracy: 0.8762\n",
      "Epoch 13/30\n",
      "189/189 - 0s - loss: 0.3361 - accuracy: 0.9016 - val_loss: 0.3290 - val_accuracy: 0.8762\n",
      "Epoch 14/30\n",
      "189/189 - 1s - loss: 0.3233 - accuracy: 0.9127 - val_loss: 0.3157 - val_accuracy: 0.8952\n",
      "Epoch 15/30\n",
      "189/189 - 0s - loss: 0.3124 - accuracy: 0.9132 - val_loss: 0.3052 - val_accuracy: 0.9000\n",
      "Epoch 16/30\n",
      "189/189 - 1s - loss: 0.3036 - accuracy: 0.9201 - val_loss: 0.2963 - val_accuracy: 0.9000\n",
      "Epoch 17/30\n",
      "189/189 - 1s - loss: 0.2962 - accuracy: 0.9201 - val_loss: 0.2886 - val_accuracy: 0.9000\n",
      "Epoch 18/30\n",
      "189/189 - 1s - loss: 0.2898 - accuracy: 0.9233 - val_loss: 0.2822 - val_accuracy: 0.9000\n",
      "Epoch 19/30\n",
      "189/189 - 1s - loss: 0.2846 - accuracy: 0.9243 - val_loss: 0.2767 - val_accuracy: 0.9000\n",
      "Epoch 20/30\n",
      "189/189 - 1s - loss: 0.2803 - accuracy: 0.9286 - val_loss: 0.2723 - val_accuracy: 0.9000\n",
      "Epoch 21/30\n",
      "189/189 - 0s - loss: 0.2768 - accuracy: 0.9259 - val_loss: 0.2682 - val_accuracy: 0.9238\n",
      "Epoch 22/30\n",
      "189/189 - 1s - loss: 0.2735 - accuracy: 0.9323 - val_loss: 0.2649 - val_accuracy: 0.9238\n",
      "Epoch 23/30\n",
      "189/189 - 1s - loss: 0.2709 - accuracy: 0.9291 - val_loss: 0.2618 - val_accuracy: 0.9238\n",
      "Epoch 24/30\n",
      "189/189 - 0s - loss: 0.2687 - accuracy: 0.9339 - val_loss: 0.2591 - val_accuracy: 0.9238\n",
      "Epoch 25/30\n",
      "189/189 - 1s - loss: 0.2666 - accuracy: 0.9323 - val_loss: 0.2568 - val_accuracy: 0.9333\n",
      "Epoch 26/30\n",
      "189/189 - 1s - loss: 0.2648 - accuracy: 0.9360 - val_loss: 0.2548 - val_accuracy: 0.9333\n",
      "Epoch 27/30\n",
      "189/189 - 1s - loss: 0.2635 - accuracy: 0.9370 - val_loss: 0.2530 - val_accuracy: 0.9333\n",
      "Epoch 28/30\n",
      "189/189 - 0s - loss: 0.2618 - accuracy: 0.9386 - val_loss: 0.2516 - val_accuracy: 0.9238\n",
      "Epoch 29/30\n",
      "189/189 - 1s - loss: 0.2608 - accuracy: 0.9349 - val_loss: 0.2500 - val_accuracy: 0.9333\n",
      "Epoch 30/30\n",
      "189/189 - 1s - loss: 0.2595 - accuracy: 0.9354 - val_loss: 0.2487 - val_accuracy: 0.9333\n"
     ]
    },
    {
     "data": {
      "text/plain": [
       "<tensorflow.python.keras.callbacks.History at 0x7feffc0d9280>"
      ]
     },
     "execution_count": 16,
     "metadata": {},
     "output_type": "execute_result"
    }
   ],
   "source": [
    "model.fit(\n",
    "    x=scaled_train_samples,\n",
    "    y=train_labels,\n",
    "    validation_split=0.1, # Porcentaje de los valores que seran usados como testing set\n",
    "    batch_size=10,\n",
    "    epochs=30,\n",
    "    shuffle=True, # este Shuffle se hace DESPUES de partir el training/validation set\n",
    "    # se debe hacer shuffle antes para nos sesgar incorrectamente el modelo\n",
    "    verbose=2\n",
    ")"
   ]
  },
  {
   "cell_type": "markdown",
   "id": "universal-thunder",
   "metadata": {},
   "source": [
    "### Part 7 del tutorial de deeplizard para Keras\n",
    "\n",
    "link >> https://www.youtube.com/watch?v=q-HkgmJ4aR8&list=PLZbbT5o_s2xrwRnXk_yCPtnqqo4_u2YGL&index=7"
   ]
  },
  {
   "cell_type": "code",
   "execution_count": 17,
   "id": "medical-intervention",
   "metadata": {},
   "outputs": [],
   "source": [
    "test_labels  = []\n",
    "test_samples = []"
   ]
  },
  {
   "cell_type": "markdown",
   "id": "engaging-turning",
   "metadata": {},
   "source": [
    "## Creado del testing set \n",
    "\n",
    "5% de la poblacion joven tuvo efectos secundarios y 5% de la poblacion vieja no"
   ]
  },
  {
   "cell_type": "code",
   "execution_count": 18,
   "id": "published-pursuit",
   "metadata": {},
   "outputs": [],
   "source": [
    "for i in range(50):\n",
    "    # joven que tuvo efectos secundarios\n",
    "    test_samples.append(randint(13,64))\n",
    "    test_labels.append(1)\n",
    "    \n",
    "    # Viejo que no tuvo efectos secundarios\n",
    "    test_samples.append(randint(65,100))\n",
    "    test_labels.append(0)\n",
    "\n",
    "for i in range(1000):\n",
    "    # joven que no tuvo efectos secundarios\n",
    "    test_samples.append(randint(13,64))\n",
    "    test_labels.append(0)\n",
    "    \n",
    "    # Viejo que tuvo efectos secundarios\n",
    "    test_samples.append(randint(65,100))\n",
    "    test_labels.append(1)"
   ]
  },
  {
   "cell_type": "code",
   "execution_count": 19,
   "id": "regulated-season",
   "metadata": {},
   "outputs": [],
   "source": [
    "test_samples = np.array(test_samples)\n",
    "test_labels  = np.array(test_labels)\n",
    "test_labels, test_samples = shuffle(test_labels, test_samples)\n",
    "scaled_test_samples = scaler.fit_transform(test_samples.reshape(-1,1))"
   ]
  },
  {
   "cell_type": "markdown",
   "id": "living-theater",
   "metadata": {},
   "source": [
    "#### Usar el modelo entrenado para probar con el testing set"
   ]
  },
  {
   "cell_type": "code",
   "execution_count": 20,
   "id": "tight-proposal",
   "metadata": {},
   "outputs": [],
   "source": [
    "predictions = model.predict(x=scaled_test_samples, batch_size=10, verbose=0)"
   ]
  },
  {
   "cell_type": "markdown",
   "id": "unique-relation",
   "metadata": {},
   "source": [
    "## Explicacion\n",
    "\n",
    "Los valores que se encuentran en el arreglo regresado son probabilidades de estar en la condicion columna 0, columna 1, ..., columna n.\n",
    "\n",
    "Dado que nuestro modelo unicamente tiene 2 neuronas de salida, la probabilidad de estar en la columna 0 significa la probabilidad de que NO presente sintomas extra (porque el valor 0 es NO). \n",
    "\n",
    "Y la probabilidad de estar en la columna 1 es la probabilidad de que SI presente sintomas extra."
   ]
  },
  {
   "cell_type": "code",
   "execution_count": 21,
   "id": "expanded-bahrain",
   "metadata": {},
   "outputs": [
    {
     "name": "stdout",
     "output_type": "stream",
     "text": [
      "[[0.14060782 0.85939217]\n",
      " [0.9096078  0.09039222]\n",
      " [0.30694428 0.69305575]\n",
      " ...\n",
      " [0.12428001 0.87572   ]\n",
      " [0.9613517  0.03864831]\n",
      " [0.07436173 0.92563826]]\n"
     ]
    }
   ],
   "source": [
    "print(predictions)"
   ]
  },
  {
   "cell_type": "code",
   "execution_count": 22,
   "id": "handed-movie",
   "metadata": {},
   "outputs": [],
   "source": [
    "rounded_predictions = np.argmax(predictions, axis=-1)"
   ]
  },
  {
   "cell_type": "code",
   "execution_count": 23,
   "id": "artistic-thomas",
   "metadata": {},
   "outputs": [
    {
     "name": "stdout",
     "output_type": "stream",
     "text": [
      "[1 0 1 ... 1 0 1]\n"
     ]
    }
   ],
   "source": [
    "print(rounded_predictions)"
   ]
  },
  {
   "cell_type": "markdown",
   "id": "broke-partition",
   "metadata": {},
   "source": [
    "### Part 8 del tutorial de deeplizard para Keras\n",
    "\n",
    "link >> https://www.youtube.com/watch?v=VYGVOwlT4oE&list=PLZbbT5o_s2xrwRnXk_yCPtnqqo4_u2YGL&index=8"
   ]
  },
  {
   "cell_type": "markdown",
   "id": "cloudy-chart",
   "metadata": {},
   "source": [
    "### Confusion Matrix\n",
    "Con Matplotlib y SKLearn"
   ]
  },
  {
   "cell_type": "code",
   "execution_count": 24,
   "id": "distinct-andrews",
   "metadata": {},
   "outputs": [],
   "source": [
    "from sklearn.metrics import confusion_matrix\n",
    "import itertools\n",
    "from sklearn.metrics import ConfusionMatrixDisplay\n",
    "import matplotlib.pyplot as plt\n",
    "%matplotlib inline"
   ]
  },
  {
   "cell_type": "code",
   "execution_count": 25,
   "id": "bigger-hands",
   "metadata": {},
   "outputs": [],
   "source": [
    "cm = confusion_matrix(y_true=test_labels, y_pred=rounded_predictions)"
   ]
  },
  {
   "cell_type": "code",
   "execution_count": 26,
   "id": "important-radius",
   "metadata": {},
   "outputs": [
    {
     "data": {
      "text/plain": [
       "<sklearn.metrics._plot.confusion_matrix.ConfusionMatrixDisplay at 0x7fef9685a6d0>"
      ]
     },
     "execution_count": 26,
     "metadata": {},
     "output_type": "execute_result"
    },
    {
     "data": {
      "image/png": "[encoded data removed]",
      "text/plain": [
       "<Figure size 432x288 with 2 Axes>"
      ]
     },
     "metadata": {
      "needs_background": "light"
     },
     "output_type": "display_data"
    }
   ],
   "source": [
    "cm_plot_labels = [\"no side effects\",\"had side effects\"]\n",
    "result = ConfusionMatrixDisplay(cm, display_labels=cm_plot_labels)\n",
    "result.plot()"
   ]
  },
  {
   "cell_type": "markdown",
   "id": "honey-missouri",
   "metadata": {},
   "source": [
    "### Part 9 del tutorial de deeplizard para Keras\n",
    "\n",
    "link >> https://www.youtube.com/watch?v=8Nl-of5C3uA&list=PLZbbT5o_s2xrwRnXk_yCPtnqqo4_u2YGL&index=9"
   ]
  },
  {
   "cell_type": "code",
   "execution_count": 27,
   "id": "boxed-announcement",
   "metadata": {},
   "outputs": [
    {
     "name": "stdout",
     "output_type": "stream",
     "text": [
      "Model: \"sequential_1\"\n",
      "_________________________________________________________________\n",
      "Layer (type)                 Output Shape              Param #   \n",
      "=================================================================\n",
      "dense_3 (Dense)              (None, 16)                32        \n",
      "_________________________________________________________________\n",
      "dense_4 (Dense)              (None, 32)                544       \n",
      "_________________________________________________________________\n",
      "dense_5 (Dense)              (None, 2)                 66        \n",
      "=================================================================\n",
      "Total params: 642\n",
      "Trainable params: 642\n",
      "Non-trainable params: 0\n",
      "_________________________________________________________________\n"
     ]
    }
   ],
   "source": [
    "model.summary()"
   ]
  },
  {
   "cell_type": "code",
   "execution_count": 28,
   "id": "senior-removal",
   "metadata": {},
   "outputs": [
    {
     "name": "stdout",
     "output_type": "stream",
     "text": [
      "Se ha sobreescrito el modelo anterior\n"
     ]
    }
   ],
   "source": [
    "import os.path\n",
    "\n",
    "FILENAME = \"models/medical_trail_model.h5\"\n",
    "\n",
    "if os.path.isfile(FILENAME) is True:\n",
    "    print(\"Se ha sobreescrito el modelo anterior\")\n",
    "model.save(FILENAME)"
   ]
  },
  {
   "cell_type": "markdown",
   "id": "listed-baltimore",
   "metadata": {},
   "source": [
    "Esta funcion se usa para:\n",
    " - Guardar la architectura que usa nuestro modelo\n",
    " - Guardar los pesos entrenados del modelo\n",
    " - Guardar la configuracion\n",
    " - Guardar el estado del optimizador, permitiendo continuar el entrenamiento donde se quedo"
   ]
  },
  {
   "cell_type": "code",
   "execution_count": 29,
   "id": "opposite-consistency",
   "metadata": {},
   "outputs": [],
   "source": [
    "from tensorflow.keras.models import load_model\n",
    "new_model = load_model(FILENAME)"
   ]
  },
  {
   "cell_type": "code",
   "execution_count": 30,
   "id": "junior-regulation",
   "metadata": {},
   "outputs": [
    {
     "name": "stdout",
     "output_type": "stream",
     "text": [
      "Model: \"sequential_1\"\n",
      "_________________________________________________________________\n",
      "Layer (type)                 Output Shape              Param #   \n",
      "=================================================================\n",
      "dense_3 (Dense)              (None, 16)                32        \n",
      "_________________________________________________________________\n",
      "dense_4 (Dense)              (None, 32)                544       \n",
      "_________________________________________________________________\n",
      "dense_5 (Dense)              (None, 2)                 66        \n",
      "=================================================================\n",
      "Total params: 642\n",
      "Trainable params: 642\n",
      "Non-trainable params: 0\n",
      "_________________________________________________________________\n"
     ]
    }
   ],
   "source": [
    "new_model.summary()"
   ]
  },
  {
   "cell_type": "code",
   "execution_count": 31,
   "id": "designing-yesterday",
   "metadata": {},
   "outputs": [
    {
     "data": {
      "text/plain": [
       "[array([[-0.41822207, -0.37473053, -0.46566594,  0.6765047 , -0.2988726 ,\n",
       "          0.7166093 ,  0.23945685, -0.4362046 , -0.26231655,  0.4597065 ,\n",
       "         -0.02659667,  0.4256598 , -0.21522734,  0.34982437, -0.45280516,\n",
       "         -0.14804555]], dtype=float32),\n",
       " array([ 0.        ,  0.        ,  0.        , -0.13602115,  0.        ,\n",
       "        -0.11174679,  0.03426506,  0.        ,  0.        , -0.11880558,\n",
       "         0.        , -0.08786521,  0.        , -0.11719546,  0.        ,\n",
       "         0.19266903], dtype=float32),\n",
       " array([[ 1.39331400e-01,  1.40517503e-01,  3.23748201e-01,\n",
       "          2.13709980e-01, -2.95147598e-02,  2.13084221e-02,\n",
       "          4.75255549e-02,  5.13502955e-02,  2.25411803e-01,\n",
       "         -1.11084253e-01,  3.44910413e-01, -9.77241993e-02,\n",
       "         -5.82021773e-02,  2.43889302e-01,  2.62173861e-01,\n",
       "          5.31593263e-02,  3.15330774e-01,  5.21196425e-02,\n",
       "          3.16860527e-01,  5.33133745e-03,  1.98191613e-01,\n",
       "         -2.82495916e-02, -2.52182871e-01,  1.03193849e-01,\n",
       "         -1.36599109e-01, -3.17522556e-01,  3.67214382e-02,\n",
       "          3.35706741e-01,  3.01674932e-01, -3.30687553e-01,\n",
       "          2.08583474e-03,  2.51102418e-01],\n",
       "        [ 3.32309037e-01, -1.11487016e-01,  2.42036015e-01,\n",
       "         -2.32422248e-01, -1.46714523e-01, -1.38174057e-01,\n",
       "          2.89044410e-01, -3.22111994e-01,  6.21590018e-02,\n",
       "         -2.65230179e-01, -9.89172161e-02, -1.79752678e-01,\n",
       "         -7.77786374e-02,  8.36774111e-02, -3.18991840e-02,\n",
       "          3.34526509e-01, -1.13091379e-01,  4.96954322e-02,\n",
       "          2.29579598e-01,  7.73471594e-03, -3.45868170e-01,\n",
       "          1.64236575e-01,  2.08411843e-01,  2.68414587e-01,\n",
       "          2.83817619e-01, -3.01017582e-01,  1.08518004e-02,\n",
       "          1.15545511e-01,  3.37949008e-01,  1.13171190e-01,\n",
       "          5.27954102e-02, -3.09896767e-01],\n",
       "        [ 3.10594767e-01,  7.10643828e-02, -9.72397029e-02,\n",
       "          2.69108415e-02,  3.29625100e-01,  7.72951245e-02,\n",
       "         -1.65064424e-01, -2.66181111e-01, -3.40441406e-01,\n",
       "          9.13713276e-02,  2.66188532e-01, -2.48592734e-01,\n",
       "         -1.62912145e-01,  1.86705083e-01, -1.33954063e-01,\n",
       "          1.12701088e-01, -1.93932399e-01,  9.03812945e-02,\n",
       "          3.47286254e-01, -4.54492271e-02, -3.41270179e-01,\n",
       "         -3.32047373e-01,  3.24477941e-01,  1.79769605e-01,\n",
       "         -3.96972597e-02,  3.09174091e-01, -1.14157513e-01,\n",
       "          5.53494394e-02, -1.22641429e-01, -3.04982066e-02,\n",
       "         -2.98159271e-01,  4.91754115e-02],\n",
       "        [ 1.53652102e-01, -4.94991541e-02, -1.33164162e-02,\n",
       "          5.49787693e-02, -3.72489691e-01,  1.43083572e-01,\n",
       "          3.42099547e-01, -2.07564235e-01, -2.66821563e-01,\n",
       "          1.22427911e-01, -1.79365516e-01, -3.05713356e-01,\n",
       "          3.01475041e-02, -4.05612886e-02, -3.17166567e-01,\n",
       "          1.43964842e-01, -2.47373849e-01,  9.63924453e-02,\n",
       "         -2.90170431e-01,  2.79861629e-01,  2.06768870e-01,\n",
       "          1.61919892e-01, -5.04708052e-01, -2.37199768e-01,\n",
       "          1.93163186e-01,  6.34685159e-02, -4.80796814e-01,\n",
       "         -3.77418876e-01,  4.17266369e-01,  4.89137292e-01,\n",
       "          4.29103613e-01,  3.40079129e-01],\n",
       "        [ 2.66961008e-01, -1.31112933e-02, -2.95366466e-01,\n",
       "          2.35109717e-01, -1.10083774e-01,  2.45225042e-01,\n",
       "          8.26009810e-02, -1.14944816e-01, -1.75531343e-01,\n",
       "          2.77101368e-01, -3.25742453e-01,  2.02622920e-01,\n",
       "         -3.04717153e-01,  2.47981876e-01,  2.44700581e-01,\n",
       "          3.26492399e-01,  2.82506019e-01,  7.88505971e-02,\n",
       "          2.05661088e-01, -1.94857433e-01, -3.17479819e-01,\n",
       "         -2.03473270e-01, -2.05860212e-01, -2.08076373e-01,\n",
       "          1.15328431e-01, -7.59838521e-02, -2.00346306e-01,\n",
       "          4.51767147e-02, -3.37029874e-01, -1.44821212e-01,\n",
       "          1.89027160e-01, -2.21220285e-01],\n",
       "        [ 9.01798978e-02, -2.80321896e-01,  3.71806115e-01,\n",
       "          1.42018944e-01, -2.40609944e-01,  1.04893140e-01,\n",
       "          3.61799709e-02, -1.97582990e-01,  1.92324534e-01,\n",
       "         -1.74407959e-01, -9.05151665e-02, -1.39505386e-01,\n",
       "         -2.93398917e-01, -1.95455581e-01,  3.60319428e-02,\n",
       "          1.68083787e-01, -1.34976372e-01, -3.38986963e-01,\n",
       "         -1.59597889e-01,  2.47644141e-01,  4.30262119e-01,\n",
       "          1.71989780e-02,  4.95498814e-02, -8.54953006e-02,\n",
       "          4.50276554e-01, -2.84057200e-01,  1.21349290e-01,\n",
       "         -2.71547288e-02, -7.51254149e-03,  2.90573567e-01,\n",
       "         -1.26499981e-02,  2.33678237e-01],\n",
       "        [-1.28236696e-01,  2.79704809e-01,  2.10563704e-01,\n",
       "          4.18851912e-01,  1.91248998e-01,  4.72247034e-01,\n",
       "          9.24370959e-02,  3.90865088e-01,  1.32251292e-01,\n",
       "         -4.56795990e-02,  3.00367683e-01, -1.11112237e-01,\n",
       "         -2.92134762e-01, -6.34628832e-02, -4.03054692e-02,\n",
       "          3.21362346e-01, -1.63580433e-01,  1.66268840e-01,\n",
       "          1.53123587e-02,  1.98746800e-01,  1.97715297e-01,\n",
       "          1.01322852e-01,  9.51632261e-02,  1.03853650e-01,\n",
       "          1.09210663e-01, -1.40976146e-01,  1.41243801e-01,\n",
       "         -1.70914739e-01,  4.37915564e-01, -1.87287748e-01,\n",
       "          3.06156129e-01, -1.26169965e-01],\n",
       "        [-4.80839908e-02,  2.27017492e-01, -1.90445170e-01,\n",
       "         -7.86762834e-02, -3.14524472e-01,  8.33499432e-02,\n",
       "         -1.68931305e-01,  1.32212400e-01,  2.55217284e-01,\n",
       "         -3.39205921e-01, -3.52683991e-01, -2.75284320e-01,\n",
       "          1.01197541e-01, -3.47005785e-01,  2.03172058e-01,\n",
       "         -5.89209497e-02, -1.57392517e-01, -2.64075965e-01,\n",
       "          1.31511748e-01,  3.13119918e-01,  8.56087506e-02,\n",
       "          2.97143549e-01,  3.30081969e-01,  3.37272316e-01,\n",
       "         -3.23242843e-02, -2.91849643e-01, -1.09507799e-01,\n",
       "         -2.77862191e-01,  3.39652449e-01,  7.68580735e-02,\n",
       "         -1.61474273e-01,  1.56909227e-02],\n",
       "        [ 6.22513294e-02, -1.67705938e-01, -1.08282581e-01,\n",
       "         -2.53765285e-02,  1.69840753e-02, -5.76686859e-03,\n",
       "          3.52882832e-01,  2.19373405e-02,  1.79047287e-02,\n",
       "         -1.63376525e-01,  1.93638116e-01,  2.28066474e-01,\n",
       "          4.77372110e-02, -1.02583915e-01,  8.42964649e-02,\n",
       "         -1.51736155e-01,  2.49062479e-02, -2.77471900e-01,\n",
       "         -2.97351569e-01,  2.13954955e-01, -2.29805529e-01,\n",
       "          5.05867600e-02,  7.75410235e-02,  1.77753299e-01,\n",
       "          2.81369597e-01,  8.43592882e-02, -3.10983121e-01,\n",
       "          1.93252236e-01, -3.23008299e-02, -3.24106067e-01,\n",
       "          3.47485274e-01, -2.38155574e-01],\n",
       "        [-4.46935564e-01, -1.17143512e-01,  3.42513740e-01,\n",
       "          1.64887279e-01, -9.78578627e-02,  2.02034712e-01,\n",
       "          4.68780398e-01, -3.22274208e-01, -5.27572371e-02,\n",
       "          1.58924311e-01, -5.69302738e-02, -2.57668972e-01,\n",
       "          1.56436726e-01, -3.16089809e-01, -4.27331567e-01,\n",
       "          2.79860109e-01,  5.89659810e-03, -3.13344002e-01,\n",
       "         -9.96106565e-02,  1.07969388e-01,  2.37226442e-01,\n",
       "          5.00996232e-01, -1.72493793e-02, -1.73648357e-01,\n",
       "          1.65156513e-01, -1.63191557e-03, -1.89837396e-01,\n",
       "         -1.20930590e-01,  6.55055046e-02, -1.22417033e-01,\n",
       "          2.46603444e-01,  2.94832855e-01],\n",
       "        [ 2.14833349e-01, -1.30601227e-02,  7.23897517e-02,\n",
       "          1.24778092e-01,  2.59741157e-01, -2.80815840e-01,\n",
       "         -9.94459093e-02, -1.53629810e-01, -6.06241226e-02,\n",
       "         -1.08951792e-01, -1.18137598e-02, -1.86286375e-01,\n",
       "          2.72707134e-01, -2.05584660e-01, -4.23368514e-02,\n",
       "         -2.41540968e-02, -2.00935006e-01, -2.41186604e-01,\n",
       "         -3.33680898e-01,  9.88735557e-02, -2.17714518e-01,\n",
       "         -1.91352755e-01, -8.20891559e-02, -2.56085277e-01,\n",
       "          2.43246257e-02, -1.94560722e-01,  1.76272601e-01,\n",
       "         -1.87622592e-01, -4.42558527e-03, -1.31932110e-01,\n",
       "          1.81358784e-01, -2.91490555e-01],\n",
       "        [-2.67375499e-01, -4.22287524e-01,  6.99250847e-02,\n",
       "          3.43897909e-01,  7.50922188e-02,  5.34051061e-01,\n",
       "          4.98169333e-01,  2.56338194e-02, -1.37710899e-01,\n",
       "         -1.97468355e-01, -3.29727530e-02,  2.02536732e-01,\n",
       "         -7.34369531e-02, -3.07132244e-01, -7.02343360e-02,\n",
       "          4.10815477e-01, -3.31482589e-01,  1.58281803e-01,\n",
       "         -1.87657744e-01,  4.54860270e-01, -1.66446462e-01,\n",
       "          2.49244615e-01,  9.41685662e-02, -2.77710676e-01,\n",
       "          4.80905801e-01, -3.50509197e-01, -1.12159885e-01,\n",
       "         -1.16435044e-01,  3.08869988e-01,  4.24595654e-01,\n",
       "          2.33337969e-01,  2.38930196e-01],\n",
       "        [ 2.28202432e-01, -1.54278621e-01, -3.52350444e-01,\n",
       "          1.08610392e-01, -5.97119629e-02,  1.54722363e-01,\n",
       "         -8.18947852e-02,  3.01368684e-01,  1.34968609e-01,\n",
       "         -2.19607949e-02,  1.34356230e-01,  6.05026484e-02,\n",
       "          2.01916605e-01, -2.53337801e-01,  2.41093338e-02,\n",
       "         -1.12257794e-01,  6.91427588e-02, -4.07704115e-02,\n",
       "         -2.41567612e-01, -2.46467099e-01, -2.30136797e-01,\n",
       "          1.12541318e-02, -1.27661541e-01,  7.42703378e-02,\n",
       "         -2.26178363e-01, -4.40707803e-02,  2.34132499e-01,\n",
       "         -2.63010651e-01,  5.73322177e-03,  1.70501798e-01,\n",
       "          2.77466446e-01, -2.84052134e-01],\n",
       "        [-2.72121191e-01, -2.71343291e-01,  3.63789618e-01,\n",
       "          4.08360392e-01, -8.00903291e-02,  5.17784730e-02,\n",
       "          5.56604922e-01, -4.12367702e-01, -2.73930043e-01,\n",
       "         -5.57183027e-02, -1.36911258e-01, -2.43097544e-04,\n",
       "          8.37267563e-02,  2.29317218e-01,  1.83053128e-02,\n",
       "         -1.25986263e-01, -1.75588578e-01,  4.15814519e-02,\n",
       "          5.36297783e-02,  1.95581138e-01,  3.34735543e-01,\n",
       "          5.04741251e-01, -5.82868576e-01,  9.35280602e-03,\n",
       "         -1.39926478e-01, -3.31681460e-01, -1.40594959e-01,\n",
       "         -3.34648713e-02, -4.48878147e-02,  3.01797539e-01,\n",
       "          1.60332575e-01,  4.38960135e-01],\n",
       "        [ 2.66196936e-01,  7.63724446e-02,  2.81614095e-01,\n",
       "         -2.78269678e-01,  1.92821652e-01,  2.47263819e-01,\n",
       "         -2.18330532e-01, -1.01427138e-01, -2.57060200e-01,\n",
       "          2.39491165e-02,  1.66138262e-01,  3.23137671e-01,\n",
       "          7.20167458e-02, -1.23173490e-01, -2.11775094e-01,\n",
       "          1.19740963e-02, -2.13783652e-01,  2.90439159e-01,\n",
       "          2.84990221e-01, -5.70842028e-02, -2.40467399e-01,\n",
       "          3.30914050e-01, -1.93121746e-01,  2.36368984e-01,\n",
       "          8.93397629e-02,  1.00300640e-01,  2.05132097e-01,\n",
       "          4.54750061e-02, -3.08857501e-01, -2.83820242e-01,\n",
       "         -1.99101210e-01,  2.20566660e-01],\n",
       "        [ 7.02352583e-01,  4.57638413e-01, -2.43570969e-01,\n",
       "          6.11608289e-03,  2.94609666e-01, -5.51328540e-01,\n",
       "         -5.33004344e-01,  6.27896547e-01,  1.23792790e-01,\n",
       "         -8.88550878e-02, -3.51139635e-01, -1.63857505e-01,\n",
       "          5.17694831e-01, -1.69765562e-01,  6.51833415e-01,\n",
       "         -4.91513163e-01, -1.92854360e-01,  2.16243222e-01,\n",
       "          4.13651496e-01, -3.12559634e-01, -1.16719946e-01,\n",
       "         -3.66798609e-01,  5.52919626e-01,  4.95673448e-01,\n",
       "         -6.11617446e-01, -6.03860617e-02,  8.06197673e-02,\n",
       "          5.44709921e-01, -3.96324307e-01, -2.67854452e-01,\n",
       "         -3.91364098e-01, -6.13693334e-02]], dtype=float32),\n",
       " array([ 0.17932531,  0.2582235 , -0.0788524 , -0.10124217,  0.21989292,\n",
       "        -0.07324027, -0.07016202,  0.22162595,  0.17148063,  0.        ,\n",
       "         0.        ,  0.        ,  0.18052739,  0.        ,  0.21101394,\n",
       "        -0.06733268,  0.        ,  0.17722555,  0.22443518, -0.08922175,\n",
       "        -0.09262701, -0.05241429,  0.21458413,  0.21145372, -0.07397547,\n",
       "         0.        ,  0.1938016 ,  0.23441273, -0.07674526, -0.0778408 ,\n",
       "        -0.07279857, -0.0887525 ], dtype=float32),\n",
       " array([[ 0.42907026, -0.2233683 ],\n",
       "        [ 0.8001895 ,  0.00905568],\n",
       "        [-0.45083445,  0.33180553],\n",
       "        [-0.6158227 ,  0.5920617 ],\n",
       "        [ 0.60941243, -0.24844235],\n",
       "        [-0.07282209,  0.5509285 ],\n",
       "        [-0.49003536,  0.16278973],\n",
       "        [ 0.76939404, -0.47524592],\n",
       "        [ 0.34517726, -0.0500524 ],\n",
       "        [-0.271868  , -0.32174042],\n",
       "        [ 0.14014944, -0.13615096],\n",
       "        [ 0.04777744,  0.10001394],\n",
       "        [ 0.2444023 , -0.17158194],\n",
       "        [-0.13154528, -0.35578048],\n",
       "        [ 0.51176244, -0.3997408 ],\n",
       "        [-0.41321406,  0.5424432 ],\n",
       "        [ 0.34340444, -0.35633484],\n",
       "        [-0.02739156, -0.4879574 ],\n",
       "        [ 0.80814254, -0.07479593],\n",
       "        [-0.4470144 ,  0.34998924],\n",
       "        [-0.5567061 ,  0.57443607],\n",
       "        [-0.44695717,  0.540045  ],\n",
       "        [ 0.37953544, -0.38023487],\n",
       "        [-0.03215951, -0.6326975 ],\n",
       "        [-0.55914426,  0.4404771 ],\n",
       "        [-0.40685564,  0.25298944],\n",
       "        [ 0.37507322, -0.60961866],\n",
       "        [ 0.12715465, -0.6584493 ],\n",
       "        [-0.6665068 ,  0.16179417],\n",
       "        [-0.34790733,  0.5137203 ],\n",
       "        [-0.4934792 ,  0.10829321],\n",
       "        [-0.5460054 ,  0.1797056 ]], dtype=float32),\n",
       " array([ 0.15668453, -0.15668452], dtype=float32)]"
      ]
     },
     "execution_count": 31,
     "metadata": {},
     "output_type": "execute_result"
    }
   ],
   "source": [
    "new_model.get_weights()"
   ]
  },
  {
   "cell_type": "code",
   "execution_count": 32,
   "id": "foreign-vault",
   "metadata": {},
   "outputs": [
    {
     "data": {
      "text/plain": [
       "<tensorflow.python.keras.optimizer_v2.adam.Adam at 0x7feffc2e2a60>"
      ]
     },
     "execution_count": 32,
     "metadata": {},
     "output_type": "execute_result"
    }
   ],
   "source": [
    "new_model.optimizer"
   ]
  },
  {
   "cell_type": "markdown",
   "id": "applied-movement",
   "metadata": {},
   "source": [
    "#### Model to JSON\n",
    "\n",
    "Esta forma no guarda los pesos, **solo la architectura**"
   ]
  },
  {
   "cell_type": "code",
   "execution_count": 33,
   "id": "ordered-recording",
   "metadata": {},
   "outputs": [],
   "source": [
    "# Save as JSON\n",
    "jsonString = model.to_json()\n",
    "\n",
    "# Save as YAML\n",
    "# yamlString = model.to_yaml()"
   ]
  },
  {
   "cell_type": "code",
   "execution_count": 34,
   "id": "described-delhi",
   "metadata": {},
   "outputs": [
    {
     "name": "stdout",
     "output_type": "stream",
     "text": [
      "Model: \"sequential_1\"\n",
      "_________________________________________________________________\n",
      "Layer (type)                 Output Shape              Param #   \n",
      "=================================================================\n",
      "dense_3 (Dense)              (None, 16)                32        \n",
      "_________________________________________________________________\n",
      "dense_4 (Dense)              (None, 32)                544       \n",
      "_________________________________________________________________\n",
      "dense_5 (Dense)              (None, 2)                 66        \n",
      "=================================================================\n",
      "Total params: 642\n",
      "Trainable params: 642\n",
      "Non-trainable params: 0\n",
      "_________________________________________________________________\n"
     ]
    }
   ],
   "source": [
    "from tensorflow.keras.models import model_from_json\n",
    "model_architecture = model_from_json(jsonString)\n",
    "\n",
    "# from tensorflow.keras.models import model_from_yaml\n",
    "# model_architecture = model_from_yaml(yamlString)\n",
    "\n",
    "model_architecture.summary()"
   ]
  },
  {
   "cell_type": "markdown",
   "id": "exposed-accounting",
   "metadata": {},
   "source": [
    "#### Save the weights\n",
    "\n",
    "Esta funcion solo guarda los pesos del modelo.\n",
    "\n",
    "Cuando se cargan en un modelo, este debe de tener la misma arquitectura que el de los pesos guardados. De otra forma salta un error."
   ]
  },
  {
   "cell_type": "code",
   "execution_count": 35,
   "id": "renewable-swift",
   "metadata": {},
   "outputs": [
    {
     "name": "stdout",
     "output_type": "stream",
     "text": [
      "Se han sobreescrito los pesos del modelo guardado\n"
     ]
    }
   ],
   "source": [
    "FILENAME_WEIGHTS = \"models/my_model_weights.h5\"\n",
    "if os.path.isfile(FILENAME_WEIGHTS) is True:\n",
    "    print(\"Se han sobreescrito los pesos del modelo guardado\")\n",
    "model.save_weights(FILENAME_WEIGHTS)"
   ]
  },
  {
   "cell_type": "code",
   "execution_count": 36,
   "id": "described-consolidation",
   "metadata": {},
   "outputs": [],
   "source": [
    "model2 = Sequential([\n",
    "    Dense(units=16, activation=\"relu\", input_shape=(1,)),\n",
    "    Dense(units=32, activation=\"relu\"),\n",
    "    Dense(units=2, activation=\"softmax\")\n",
    "])"
   ]
  },
  {
   "cell_type": "code",
   "execution_count": 37,
   "id": "freelance-collection",
   "metadata": {},
   "outputs": [],
   "source": [
    "model2.load_weights(FILENAME_WEIGHTS)"
   ]
  },
  {
   "cell_type": "code",
   "execution_count": 38,
   "id": "forced-exposure",
   "metadata": {},
   "outputs": [
    {
     "data": {
      "text/plain": [
       "[array([[-0.41822207, -0.37473053, -0.46566594,  0.6765047 , -0.2988726 ,\n",
       "          0.7166093 ,  0.23945685, -0.4362046 , -0.26231655,  0.4597065 ,\n",
       "         -0.02659667,  0.4256598 , -0.21522734,  0.34982437, -0.45280516,\n",
       "         -0.14804555]], dtype=float32),\n",
       " array([ 0.        ,  0.        ,  0.        , -0.13602115,  0.        ,\n",
       "        -0.11174679,  0.03426506,  0.        ,  0.        , -0.11880558,\n",
       "         0.        , -0.08786521,  0.        , -0.11719546,  0.        ,\n",
       "         0.19266903], dtype=float32),\n",
       " array([[ 1.39331400e-01,  1.40517503e-01,  3.23748201e-01,\n",
       "          2.13709980e-01, -2.95147598e-02,  2.13084221e-02,\n",
       "          4.75255549e-02,  5.13502955e-02,  2.25411803e-01,\n",
       "         -1.11084253e-01,  3.44910413e-01, -9.77241993e-02,\n",
       "         -5.82021773e-02,  2.43889302e-01,  2.62173861e-01,\n",
       "          5.31593263e-02,  3.15330774e-01,  5.21196425e-02,\n",
       "          3.16860527e-01,  5.33133745e-03,  1.98191613e-01,\n",
       "         -2.82495916e-02, -2.52182871e-01,  1.03193849e-01,\n",
       "         -1.36599109e-01, -3.17522556e-01,  3.67214382e-02,\n",
       "          3.35706741e-01,  3.01674932e-01, -3.30687553e-01,\n",
       "          2.08583474e-03,  2.51102418e-01],\n",
       "        [ 3.32309037e-01, -1.11487016e-01,  2.42036015e-01,\n",
       "         -2.32422248e-01, -1.46714523e-01, -1.38174057e-01,\n",
       "          2.89044410e-01, -3.22111994e-01,  6.21590018e-02,\n",
       "         -2.65230179e-01, -9.89172161e-02, -1.79752678e-01,\n",
       "         -7.77786374e-02,  8.36774111e-02, -3.18991840e-02,\n",
       "          3.34526509e-01, -1.13091379e-01,  4.96954322e-02,\n",
       "          2.29579598e-01,  7.73471594e-03, -3.45868170e-01,\n",
       "          1.64236575e-01,  2.08411843e-01,  2.68414587e-01,\n",
       "          2.83817619e-01, -3.01017582e-01,  1.08518004e-02,\n",
       "          1.15545511e-01,  3.37949008e-01,  1.13171190e-01,\n",
       "          5.27954102e-02, -3.09896767e-01],\n",
       "        [ 3.10594767e-01,  7.10643828e-02, -9.72397029e-02,\n",
       "          2.69108415e-02,  3.29625100e-01,  7.72951245e-02,\n",
       "         -1.65064424e-01, -2.66181111e-01, -3.40441406e-01,\n",
       "          9.13713276e-02,  2.66188532e-01, -2.48592734e-01,\n",
       "         -1.62912145e-01,  1.86705083e-01, -1.33954063e-01,\n",
       "          1.12701088e-01, -1.93932399e-01,  9.03812945e-02,\n",
       "          3.47286254e-01, -4.54492271e-02, -3.41270179e-01,\n",
       "         -3.32047373e-01,  3.24477941e-01,  1.79769605e-01,\n",
       "         -3.96972597e-02,  3.09174091e-01, -1.14157513e-01,\n",
       "          5.53494394e-02, -1.22641429e-01, -3.04982066e-02,\n",
       "         -2.98159271e-01,  4.91754115e-02],\n",
       "        [ 1.53652102e-01, -4.94991541e-02, -1.33164162e-02,\n",
       "          5.49787693e-02, -3.72489691e-01,  1.43083572e-01,\n",
       "          3.42099547e-01, -2.07564235e-01, -2.66821563e-01,\n",
       "          1.22427911e-01, -1.79365516e-01, -3.05713356e-01,\n",
       "          3.01475041e-02, -4.05612886e-02, -3.17166567e-01,\n",
       "          1.43964842e-01, -2.47373849e-01,  9.63924453e-02,\n",
       "         -2.90170431e-01,  2.79861629e-01,  2.06768870e-01,\n",
       "          1.61919892e-01, -5.04708052e-01, -2.37199768e-01,\n",
       "          1.93163186e-01,  6.34685159e-02, -4.80796814e-01,\n",
       "         -3.77418876e-01,  4.17266369e-01,  4.89137292e-01,\n",
       "          4.29103613e-01,  3.40079129e-01],\n",
       "        [ 2.66961008e-01, -1.31112933e-02, -2.95366466e-01,\n",
       "          2.35109717e-01, -1.10083774e-01,  2.45225042e-01,\n",
       "          8.26009810e-02, -1.14944816e-01, -1.75531343e-01,\n",
       "          2.77101368e-01, -3.25742453e-01,  2.02622920e-01,\n",
       "         -3.04717153e-01,  2.47981876e-01,  2.44700581e-01,\n",
       "          3.26492399e-01,  2.82506019e-01,  7.88505971e-02,\n",
       "          2.05661088e-01, -1.94857433e-01, -3.17479819e-01,\n",
       "         -2.03473270e-01, -2.05860212e-01, -2.08076373e-01,\n",
       "          1.15328431e-01, -7.59838521e-02, -2.00346306e-01,\n",
       "          4.51767147e-02, -3.37029874e-01, -1.44821212e-01,\n",
       "          1.89027160e-01, -2.21220285e-01],\n",
       "        [ 9.01798978e-02, -2.80321896e-01,  3.71806115e-01,\n",
       "          1.42018944e-01, -2.40609944e-01,  1.04893140e-01,\n",
       "          3.61799709e-02, -1.97582990e-01,  1.92324534e-01,\n",
       "         -1.74407959e-01, -9.05151665e-02, -1.39505386e-01,\n",
       "         -2.93398917e-01, -1.95455581e-01,  3.60319428e-02,\n",
       "          1.68083787e-01, -1.34976372e-01, -3.38986963e-01,\n",
       "         -1.59597889e-01,  2.47644141e-01,  4.30262119e-01,\n",
       "          1.71989780e-02,  4.95498814e-02, -8.54953006e-02,\n",
       "          4.50276554e-01, -2.84057200e-01,  1.21349290e-01,\n",
       "         -2.71547288e-02, -7.51254149e-03,  2.90573567e-01,\n",
       "         -1.26499981e-02,  2.33678237e-01],\n",
       "        [-1.28236696e-01,  2.79704809e-01,  2.10563704e-01,\n",
       "          4.18851912e-01,  1.91248998e-01,  4.72247034e-01,\n",
       "          9.24370959e-02,  3.90865088e-01,  1.32251292e-01,\n",
       "         -4.56795990e-02,  3.00367683e-01, -1.11112237e-01,\n",
       "         -2.92134762e-01, -6.34628832e-02, -4.03054692e-02,\n",
       "          3.21362346e-01, -1.63580433e-01,  1.66268840e-01,\n",
       "          1.53123587e-02,  1.98746800e-01,  1.97715297e-01,\n",
       "          1.01322852e-01,  9.51632261e-02,  1.03853650e-01,\n",
       "          1.09210663e-01, -1.40976146e-01,  1.41243801e-01,\n",
       "         -1.70914739e-01,  4.37915564e-01, -1.87287748e-01,\n",
       "          3.06156129e-01, -1.26169965e-01],\n",
       "        [-4.80839908e-02,  2.27017492e-01, -1.90445170e-01,\n",
       "         -7.86762834e-02, -3.14524472e-01,  8.33499432e-02,\n",
       "         -1.68931305e-01,  1.32212400e-01,  2.55217284e-01,\n",
       "         -3.39205921e-01, -3.52683991e-01, -2.75284320e-01,\n",
       "          1.01197541e-01, -3.47005785e-01,  2.03172058e-01,\n",
       "         -5.89209497e-02, -1.57392517e-01, -2.64075965e-01,\n",
       "          1.31511748e-01,  3.13119918e-01,  8.56087506e-02,\n",
       "          2.97143549e-01,  3.30081969e-01,  3.37272316e-01,\n",
       "         -3.23242843e-02, -2.91849643e-01, -1.09507799e-01,\n",
       "         -2.77862191e-01,  3.39652449e-01,  7.68580735e-02,\n",
       "         -1.61474273e-01,  1.56909227e-02],\n",
       "        [ 6.22513294e-02, -1.67705938e-01, -1.08282581e-01,\n",
       "         -2.53765285e-02,  1.69840753e-02, -5.76686859e-03,\n",
       "          3.52882832e-01,  2.19373405e-02,  1.79047287e-02,\n",
       "         -1.63376525e-01,  1.93638116e-01,  2.28066474e-01,\n",
       "          4.77372110e-02, -1.02583915e-01,  8.42964649e-02,\n",
       "         -1.51736155e-01,  2.49062479e-02, -2.77471900e-01,\n",
       "         -2.97351569e-01,  2.13954955e-01, -2.29805529e-01,\n",
       "          5.05867600e-02,  7.75410235e-02,  1.77753299e-01,\n",
       "          2.81369597e-01,  8.43592882e-02, -3.10983121e-01,\n",
       "          1.93252236e-01, -3.23008299e-02, -3.24106067e-01,\n",
       "          3.47485274e-01, -2.38155574e-01],\n",
       "        [-4.46935564e-01, -1.17143512e-01,  3.42513740e-01,\n",
       "          1.64887279e-01, -9.78578627e-02,  2.02034712e-01,\n",
       "          4.68780398e-01, -3.22274208e-01, -5.27572371e-02,\n",
       "          1.58924311e-01, -5.69302738e-02, -2.57668972e-01,\n",
       "          1.56436726e-01, -3.16089809e-01, -4.27331567e-01,\n",
       "          2.79860109e-01,  5.89659810e-03, -3.13344002e-01,\n",
       "         -9.96106565e-02,  1.07969388e-01,  2.37226442e-01,\n",
       "          5.00996232e-01, -1.72493793e-02, -1.73648357e-01,\n",
       "          1.65156513e-01, -1.63191557e-03, -1.89837396e-01,\n",
       "         -1.20930590e-01,  6.55055046e-02, -1.22417033e-01,\n",
       "          2.46603444e-01,  2.94832855e-01],\n",
       "        [ 2.14833349e-01, -1.30601227e-02,  7.23897517e-02,\n",
       "          1.24778092e-01,  2.59741157e-01, -2.80815840e-01,\n",
       "         -9.94459093e-02, -1.53629810e-01, -6.06241226e-02,\n",
       "         -1.08951792e-01, -1.18137598e-02, -1.86286375e-01,\n",
       "          2.72707134e-01, -2.05584660e-01, -4.23368514e-02,\n",
       "         -2.41540968e-02, -2.00935006e-01, -2.41186604e-01,\n",
       "         -3.33680898e-01,  9.88735557e-02, -2.17714518e-01,\n",
       "         -1.91352755e-01, -8.20891559e-02, -2.56085277e-01,\n",
       "          2.43246257e-02, -1.94560722e-01,  1.76272601e-01,\n",
       "         -1.87622592e-01, -4.42558527e-03, -1.31932110e-01,\n",
       "          1.81358784e-01, -2.91490555e-01],\n",
       "        [-2.67375499e-01, -4.22287524e-01,  6.99250847e-02,\n",
       "          3.43897909e-01,  7.50922188e-02,  5.34051061e-01,\n",
       "          4.98169333e-01,  2.56338194e-02, -1.37710899e-01,\n",
       "         -1.97468355e-01, -3.29727530e-02,  2.02536732e-01,\n",
       "         -7.34369531e-02, -3.07132244e-01, -7.02343360e-02,\n",
       "          4.10815477e-01, -3.31482589e-01,  1.58281803e-01,\n",
       "         -1.87657744e-01,  4.54860270e-01, -1.66446462e-01,\n",
       "          2.49244615e-01,  9.41685662e-02, -2.77710676e-01,\n",
       "          4.80905801e-01, -3.50509197e-01, -1.12159885e-01,\n",
       "         -1.16435044e-01,  3.08869988e-01,  4.24595654e-01,\n",
       "          2.33337969e-01,  2.38930196e-01],\n",
       "        [ 2.28202432e-01, -1.54278621e-01, -3.52350444e-01,\n",
       "          1.08610392e-01, -5.97119629e-02,  1.54722363e-01,\n",
       "         -8.18947852e-02,  3.01368684e-01,  1.34968609e-01,\n",
       "         -2.19607949e-02,  1.34356230e-01,  6.05026484e-02,\n",
       "          2.01916605e-01, -2.53337801e-01,  2.41093338e-02,\n",
       "         -1.12257794e-01,  6.91427588e-02, -4.07704115e-02,\n",
       "         -2.41567612e-01, -2.46467099e-01, -2.30136797e-01,\n",
       "          1.12541318e-02, -1.27661541e-01,  7.42703378e-02,\n",
       "         -2.26178363e-01, -4.40707803e-02,  2.34132499e-01,\n",
       "         -2.63010651e-01,  5.73322177e-03,  1.70501798e-01,\n",
       "          2.77466446e-01, -2.84052134e-01],\n",
       "        [-2.72121191e-01, -2.71343291e-01,  3.63789618e-01,\n",
       "          4.08360392e-01, -8.00903291e-02,  5.17784730e-02,\n",
       "          5.56604922e-01, -4.12367702e-01, -2.73930043e-01,\n",
       "         -5.57183027e-02, -1.36911258e-01, -2.43097544e-04,\n",
       "          8.37267563e-02,  2.29317218e-01,  1.83053128e-02,\n",
       "         -1.25986263e-01, -1.75588578e-01,  4.15814519e-02,\n",
       "          5.36297783e-02,  1.95581138e-01,  3.34735543e-01,\n",
       "          5.04741251e-01, -5.82868576e-01,  9.35280602e-03,\n",
       "         -1.39926478e-01, -3.31681460e-01, -1.40594959e-01,\n",
       "         -3.34648713e-02, -4.48878147e-02,  3.01797539e-01,\n",
       "          1.60332575e-01,  4.38960135e-01],\n",
       "        [ 2.66196936e-01,  7.63724446e-02,  2.81614095e-01,\n",
       "         -2.78269678e-01,  1.92821652e-01,  2.47263819e-01,\n",
       "         -2.18330532e-01, -1.01427138e-01, -2.57060200e-01,\n",
       "          2.39491165e-02,  1.66138262e-01,  3.23137671e-01,\n",
       "          7.20167458e-02, -1.23173490e-01, -2.11775094e-01,\n",
       "          1.19740963e-02, -2.13783652e-01,  2.90439159e-01,\n",
       "          2.84990221e-01, -5.70842028e-02, -2.40467399e-01,\n",
       "          3.30914050e-01, -1.93121746e-01,  2.36368984e-01,\n",
       "          8.93397629e-02,  1.00300640e-01,  2.05132097e-01,\n",
       "          4.54750061e-02, -3.08857501e-01, -2.83820242e-01,\n",
       "         -1.99101210e-01,  2.20566660e-01],\n",
       "        [ 7.02352583e-01,  4.57638413e-01, -2.43570969e-01,\n",
       "          6.11608289e-03,  2.94609666e-01, -5.51328540e-01,\n",
       "         -5.33004344e-01,  6.27896547e-01,  1.23792790e-01,\n",
       "         -8.88550878e-02, -3.51139635e-01, -1.63857505e-01,\n",
       "          5.17694831e-01, -1.69765562e-01,  6.51833415e-01,\n",
       "         -4.91513163e-01, -1.92854360e-01,  2.16243222e-01,\n",
       "          4.13651496e-01, -3.12559634e-01, -1.16719946e-01,\n",
       "         -3.66798609e-01,  5.52919626e-01,  4.95673448e-01,\n",
       "         -6.11617446e-01, -6.03860617e-02,  8.06197673e-02,\n",
       "          5.44709921e-01, -3.96324307e-01, -2.67854452e-01,\n",
       "         -3.91364098e-01, -6.13693334e-02]], dtype=float32),\n",
       " array([ 0.17932531,  0.2582235 , -0.0788524 , -0.10124217,  0.21989292,\n",
       "        -0.07324027, -0.07016202,  0.22162595,  0.17148063,  0.        ,\n",
       "         0.        ,  0.        ,  0.18052739,  0.        ,  0.21101394,\n",
       "        -0.06733268,  0.        ,  0.17722555,  0.22443518, -0.08922175,\n",
       "        -0.09262701, -0.05241429,  0.21458413,  0.21145372, -0.07397547,\n",
       "         0.        ,  0.1938016 ,  0.23441273, -0.07674526, -0.0778408 ,\n",
       "        -0.07279857, -0.0887525 ], dtype=float32),\n",
       " array([[ 0.42907026, -0.2233683 ],\n",
       "        [ 0.8001895 ,  0.00905568],\n",
       "        [-0.45083445,  0.33180553],\n",
       "        [-0.6158227 ,  0.5920617 ],\n",
       "        [ 0.60941243, -0.24844235],\n",
       "        [-0.07282209,  0.5509285 ],\n",
       "        [-0.49003536,  0.16278973],\n",
       "        [ 0.76939404, -0.47524592],\n",
       "        [ 0.34517726, -0.0500524 ],\n",
       "        [-0.271868  , -0.32174042],\n",
       "        [ 0.14014944, -0.13615096],\n",
       "        [ 0.04777744,  0.10001394],\n",
       "        [ 0.2444023 , -0.17158194],\n",
       "        [-0.13154528, -0.35578048],\n",
       "        [ 0.51176244, -0.3997408 ],\n",
       "        [-0.41321406,  0.5424432 ],\n",
       "        [ 0.34340444, -0.35633484],\n",
       "        [-0.02739156, -0.4879574 ],\n",
       "        [ 0.80814254, -0.07479593],\n",
       "        [-0.4470144 ,  0.34998924],\n",
       "        [-0.5567061 ,  0.57443607],\n",
       "        [-0.44695717,  0.540045  ],\n",
       "        [ 0.37953544, -0.38023487],\n",
       "        [-0.03215951, -0.6326975 ],\n",
       "        [-0.55914426,  0.4404771 ],\n",
       "        [-0.40685564,  0.25298944],\n",
       "        [ 0.37507322, -0.60961866],\n",
       "        [ 0.12715465, -0.6584493 ],\n",
       "        [-0.6665068 ,  0.16179417],\n",
       "        [-0.34790733,  0.5137203 ],\n",
       "        [-0.4934792 ,  0.10829321],\n",
       "        [-0.5460054 ,  0.1797056 ]], dtype=float32),\n",
       " array([ 0.15668453, -0.15668452], dtype=float32)]"
      ]
     },
     "execution_count": 38,
     "metadata": {},
     "output_type": "execute_result"
    }
   ],
   "source": [
    "model2.get_weights()"
   ]
  }
 ],
 "metadata": {
  "kernelspec": {
   "display_name": "Python 3",
   "language": "python",
   "name": "python3"
  },
  "language_info": {
   "codemirror_mode": {
    "name": "ipython",
    "version": 3
   },
   "file_extension": ".py",
   "mimetype": "text/x-python",
   "name": "python",
   "nbconvert_exporter": "python",
   "pygments_lexer": "ipython3",
   "version": "3.8.5"
  }
 },
 "nbformat": 4,
 "nbformat_minor": 5
}
