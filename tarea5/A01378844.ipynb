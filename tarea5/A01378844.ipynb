{
 "cells": [
  {
   "cell_type": "markdown",
   "id": "charming-deployment",
   "metadata": {},
   "source": [
    "¿Cuáles son las ventajas y desventajas de utilizar el descenso de gradiente estocástico en\n",
    "comparación al descenso de gradiente?"
   ]
  },
  {
   "cell_type": "markdown",
   "id": "limited-donna",
   "metadata": {},
   "source": [
    "**R :** La ventaja de usar SGD seria la velocidad a la que se obtiene una respuesta puesto que tiene que iterar sobre menos elementos, por lo que mucho antes puede llegar a una respuesta. La desventaja es que tendra un mayor nivel de varianza por lo que no seran tan precisos los resultados a diferencia de que si se hubieran hecho los calculos con todos los datos."
   ]
  },
  {
   "cell_type": "markdown",
   "id": "prospective-hunter",
   "metadata": {},
   "source": [
    "¿Cuáles son las ventajas y desventajas de utilizar validación cruzada sobre una validación con el\n",
    "proceso de hold out?"
   ]
  },
  {
   "cell_type": "markdown",
   "id": "framed-vacation",
   "metadata": {},
   "source": [
    "**R :** La desventaja de usar cross validation es que es un proceso k veces mas largo que un simple proceso de hold out. La ventaja, es que se esta usando todo el set de datos para entrenar como para probar el modelo de aprendizaje, por lo que la varianza es mucho mejor, sin necesariamente caer en overfitting, aunque segun algunos foros, hay unos casos particulares donde aun con cross-fitting es posible caer en overfitting."
   ]
  },
  {
   "cell_type": "code",
   "execution_count": 1,
   "id": "boring-velvet",
   "metadata": {},
   "outputs": [],
   "source": [
    "import pandas as pd"
   ]
  },
  {
   "cell_type": "code",
   "execution_count": 2,
   "id": "convertible-genius",
   "metadata": {},
   "outputs": [],
   "source": [
    "data = pd.read_csv(\"./kc_house_data.csv\")"
   ]
  },
  {
   "cell_type": "code",
   "execution_count": 3,
   "id": "proper-victor",
   "metadata": {},
   "outputs": [],
   "source": [
    "import numpy as np\n",
    "area  = (data[\"sqft_living\"]).to_numpy()\n",
    "price = (data[\"price\"]).to_numpy()"
   ]
  },
  {
   "cell_type": "code",
   "execution_count": 4,
   "id": "oriental-substance",
   "metadata": {},
   "outputs": [],
   "source": [
    "import matplotlib.pyplot as plt\n",
    "%matplotlib inline"
   ]
  },
  {
   "cell_type": "code",
   "execution_count": 5,
   "id": "associate-increase",
   "metadata": {},
   "outputs": [
    {
     "data": {
      "text/plain": [
       "<matplotlib.collections.PathCollection at 0x7f5a3ff2e7c0>"
      ]
     },
     "execution_count": 5,
     "metadata": {},
     "output_type": "execute_result"
    },
    {
     "data": {
      "image/png": "[encoded data removed]",
      "text/plain": [
       "<Figure size 432x288 with 1 Axes>"
      ]
     },
     "metadata": {
      "needs_background": "light"
     },
     "output_type": "display_data"
    }
   ],
   "source": [
    "plt.xlabel(\"Round carat weight (ct)\")\n",
    "plt.ylabel(\"Price (US dlls)\")\n",
    "plt.scatter(area,price,marker=\"*\")"
   ]
  },
  {
   "cell_type": "code",
   "execution_count": 6,
   "id": "associate-shirt",
   "metadata": {},
   "outputs": [],
   "source": [
    "area = area.reshape(-1,1)"
   ]
  },
  {
   "cell_type": "code",
   "execution_count": 7,
   "id": "caring-gospel",
   "metadata": {},
   "outputs": [
    {
     "data": {
      "text/plain": [
       "(21613, 1)"
      ]
     },
     "execution_count": 7,
     "metadata": {},
     "output_type": "execute_result"
    }
   ],
   "source": [
    "area.shape"
   ]
  },
  {
   "cell_type": "code",
   "execution_count": 8,
   "id": "warming-apparel",
   "metadata": {},
   "outputs": [
    {
     "data": {
      "text/plain": [
       "(21613,)"
      ]
     },
     "execution_count": 8,
     "metadata": {},
     "output_type": "execute_result"
    }
   ],
   "source": [
    "price.shape"
   ]
  },
  {
   "cell_type": "code",
   "execution_count": 9,
   "id": "civil-walker",
   "metadata": {},
   "outputs": [],
   "source": [
    "from sklearn.linear_model import LinearRegression\n",
    "ln = LinearRegression()\n",
    "from sklearn.model_selection import train_test_split\n",
    "area_train, area_test, price_train, price_test = train_test_split(area,price,test_size=0.2,random_state=68)"
   ]
  },
  {
   "cell_type": "code",
   "execution_count": 10,
   "id": "alternate-quebec",
   "metadata": {},
   "outputs": [
    {
     "data": {
      "text/plain": [
       "LinearRegression()"
      ]
     },
     "execution_count": 10,
     "metadata": {},
     "output_type": "execute_result"
    }
   ],
   "source": [
    "ln.fit(area_train,price_train)"
   ]
  },
  {
   "cell_type": "code",
   "execution_count": 11,
   "id": "decreased-sheriff",
   "metadata": {},
   "outputs": [
    {
     "name": "stdout",
     "output_type": "stream",
     "text": [
      "The price for a living room of 900 according to the linear regression is $211475.04485583905\n"
     ]
    }
   ],
   "source": [
    "sqftPrediction = 900\n",
    "pricePrediction = ln.predict([[sqftPrediction]])[0]\n",
    "print(f\"The price for a living room of {sqftPrediction} according to the linear regression is ${pricePrediction}\")"
   ]
  }
 ],
 "metadata": {
  "kernelspec": {
   "display_name": "Python 3",
   "language": "python",
   "name": "python3"
  },
  "language_info": {
   "codemirror_mode": {
    "name": "ipython",
    "version": 3
   },
   "file_extension": ".py",
   "mimetype": "text/x-python",
   "name": "python",
   "nbconvert_exporter": "python",
   "pygments_lexer": "ipython3",
   "version": "3.8.5"
  }
 },
 "nbformat": 4,
 "nbformat_minor": 5
}
