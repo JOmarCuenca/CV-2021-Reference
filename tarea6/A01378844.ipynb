{
 "cells": [
  {
   "cell_type": "markdown",
   "id": "exclusive-knife",
   "metadata": {},
   "source": [
    "# Tarea 6"
   ]
  },
  {
   "cell_type": "markdown",
   "id": "congressional-shooting",
   "metadata": {},
   "source": [
    "## Punto 1"
   ]
  },
  {
   "cell_type": "markdown",
   "id": "addressed-surge",
   "metadata": {},
   "source": [
    "OneHotEncoding es la tecnica en la que valores categoricos son transformados en valores numericos (especificamente valores binarios) con el proposito de hacerlos utilizables por modelos matematicos y de machine learning, como datos que sean leibles."
   ]
  },
  {
   "cell_type": "raw",
   "id": "premier-creature",
   "metadata": {},
   "source": [
    "https://stackabuse.com/one-hot-encoding-in-python-with-pandas-and-scikit-learn/"
   ]
  },
  {
   "cell_type": "markdown",
   "id": "russian-enhancement",
   "metadata": {},
   "source": [
    "## Punto 2 (Titanic)"
   ]
  },
  {
   "cell_type": "code",
   "execution_count": 1,
   "id": "terminal-confirmation",
   "metadata": {},
   "outputs": [
    {
     "data": {
      "text/html": [
       "<div>\n",
       "<style scoped>\n",
       "    .dataframe tbody tr th:only-of-type {\n",
       "        vertical-align: middle;\n",
       "    }\n",
       "\n",
       "    .dataframe tbody tr th {\n",
       "        vertical-align: top;\n",
       "    }\n",
       "\n",
       "    .dataframe thead th {\n",
       "        text-align: right;\n",
       "    }\n",
       "</style>\n",
       "<table border=\"1\" class=\"dataframe\">\n",
       "  <thead>\n",
       "    <tr style=\"text-align: right;\">\n",
       "      <th></th>\n",
       "      <th>Survived</th>\n",
       "      <th>Pclass</th>\n",
       "      <th>Sex</th>\n",
       "      <th>SibSp</th>\n",
       "      <th>Parch</th>\n",
       "      <th>Fare</th>\n",
       "      <th>Embarked</th>\n",
       "    </tr>\n",
       "  </thead>\n",
       "  <tbody>\n",
       "    <tr>\n",
       "      <th>0</th>\n",
       "      <td>0</td>\n",
       "      <td>3</td>\n",
       "      <td>male</td>\n",
       "      <td>1</td>\n",
       "      <td>0</td>\n",
       "      <td>7.2500</td>\n",
       "      <td>S</td>\n",
       "    </tr>\n",
       "    <tr>\n",
       "      <th>1</th>\n",
       "      <td>1</td>\n",
       "      <td>1</td>\n",
       "      <td>female</td>\n",
       "      <td>1</td>\n",
       "      <td>0</td>\n",
       "      <td>71.2833</td>\n",
       "      <td>C</td>\n",
       "    </tr>\n",
       "    <tr>\n",
       "      <th>2</th>\n",
       "      <td>1</td>\n",
       "      <td>3</td>\n",
       "      <td>female</td>\n",
       "      <td>0</td>\n",
       "      <td>0</td>\n",
       "      <td>7.9250</td>\n",
       "      <td>S</td>\n",
       "    </tr>\n",
       "    <tr>\n",
       "      <th>3</th>\n",
       "      <td>1</td>\n",
       "      <td>1</td>\n",
       "      <td>female</td>\n",
       "      <td>1</td>\n",
       "      <td>0</td>\n",
       "      <td>53.1000</td>\n",
       "      <td>S</td>\n",
       "    </tr>\n",
       "    <tr>\n",
       "      <th>4</th>\n",
       "      <td>0</td>\n",
       "      <td>3</td>\n",
       "      <td>male</td>\n",
       "      <td>0</td>\n",
       "      <td>0</td>\n",
       "      <td>8.0500</td>\n",
       "      <td>S</td>\n",
       "    </tr>\n",
       "  </tbody>\n",
       "</table>\n",
       "</div>"
      ],
      "text/plain": [
       "   Survived  Pclass     Sex  SibSp  Parch     Fare Embarked\n",
       "0         0       3    male      1      0   7.2500        S\n",
       "1         1       1  female      1      0  71.2833        C\n",
       "2         1       3  female      0      0   7.9250        S\n",
       "3         1       1  female      1      0  53.1000        S\n",
       "4         0       3    male      0      0   8.0500        S"
      ]
     },
     "execution_count": 1,
     "metadata": {},
     "output_type": "execute_result"
    }
   ],
   "source": [
    "import pandas as pd\n",
    "import numpy as np\n",
    "titanic = pd.read_csv(\"./Titanic.csv\")\n",
    "titanic.head()"
   ]
  },
  {
   "cell_type": "markdown",
   "id": "parental-ceramic",
   "metadata": {},
   "source": [
    "Importamos la libreria de sklearn para preprocesamiento de valores categoricos"
   ]
  },
  {
   "cell_type": "code",
   "execution_count": 2,
   "id": "nearby-lotus",
   "metadata": {},
   "outputs": [],
   "source": [
    "from sklearn.preprocessing import OneHotEncoder"
   ]
  },
  {
   "cell_type": "markdown",
   "id": "adapted-intersection",
   "metadata": {},
   "source": [
    "Separamos los valores que son el objetivo"
   ]
  },
  {
   "cell_type": "code",
   "execution_count": 3,
   "id": "sustainable-lingerie",
   "metadata": {},
   "outputs": [],
   "source": [
    "survived = (titanic[\"Survived\"]).to_numpy()"
   ]
  },
  {
   "cell_type": "markdown",
   "id": "honest-shape",
   "metadata": {},
   "source": [
    "Creamos la codificacion de los valores categoricos con las columnas importantes del data set"
   ]
  },
  {
   "cell_type": "code",
   "execution_count": 4,
   "id": "effective-soundtrack",
   "metadata": {},
   "outputs": [],
   "source": [
    "preEncodedconditions = titanic[[\"Pclass\",\"Sex\",\"SibSp\",\"Parch\",\"Embarked\"]]\n",
    "x = preEncodedconditions.to_numpy()\n",
    "encoder = OneHotEncoder().fit(x)\n",
    "conditions = encoder.transform(x).toarray()\n",
    "fares = titanic[\"Fare\"].to_numpy().reshape(-1,1)\n",
    "combinationResult = np.concatenate((conditions,fares),axis=1)"
   ]
  },
  {
   "cell_type": "markdown",
   "id": "described-transmission",
   "metadata": {},
   "source": [
    "Hacemos el modelo de regresion lineal con sus valores de prueba y entrenamiento.\n",
    "\n",
    "Y evaluamos que tan bueno es para ver si el valor resultado se acerca un poco a la realidad"
   ]
  },
  {
   "cell_type": "code",
   "execution_count": 5,
   "id": "moderate-agreement",
   "metadata": {},
   "outputs": [
    {
     "data": {
      "text/plain": [
       "0.7966101694915254"
      ]
     },
     "execution_count": 5,
     "metadata": {},
     "output_type": "execute_result"
    }
   ],
   "source": [
    "from sklearn.linear_model import LogisticRegression\n",
    "from sklearn.model_selection import train_test_split\n",
    "\n",
    "X_train, X_test, y_train, y_test = train_test_split(combinationResult,survived,test_size=0.33,random_state=42)\n",
    "\n",
    "lr = LogisticRegression(max_iter=1000)\n",
    "lr.fit(X_train,y_train)\n",
    "lr.score(X_test,y_test)"
   ]
  },
  {
   "cell_type": "markdown",
   "id": "external-thong",
   "metadata": {},
   "source": [
    "Acomodamos los valores correspondientes en la estructura de datos para que se puedan codificar correctamente"
   ]
  },
  {
   "cell_type": "code",
   "execution_count": 6,
   "id": "following-pioneer",
   "metadata": {
    "scrolled": true
   },
   "outputs": [],
   "source": [
    "toPredict = pd.DataFrame({\n",
    "    \"Pclass\":[1], \n",
    "    \"Sex\" : [\"female\"], \n",
    "    \"SibSp\": [0],\n",
    "    \"Parch\": [0],\n",
    "    \"Embarked\": [\"C\"]\n",
    "})\n",
    "toPredictEncoded = encoder.transform(toPredict.to_numpy()).toarray()\n",
    "toPredictEncodedCombination = np.concatenate((toPredictEncoded,[[7.5]]),axis=1)"
   ]
  },
  {
   "cell_type": "markdown",
   "id": "hawaiian-zoning",
   "metadata": {},
   "source": [
    "Solicitamos al modelo de regresion lineal que nos prediga con el objetivo si la persona en cuestion sobreviviria.\n",
    "\n",
    "**R :** Si"
   ]
  },
  {
   "cell_type": "code",
   "execution_count": 7,
   "id": "demographic-frederick",
   "metadata": {},
   "outputs": [
    {
     "name": "stdout",
     "output_type": "stream",
     "text": [
      "The answer is 1\n",
      "Meaning Life!\n"
     ]
    }
   ],
   "source": [
    "predictionResult = lr.predict(toPredictEncodedCombination)[0]\n",
    "print(f\"The answer is {predictionResult}\")\n",
    "message = \"Meaning \"\n",
    "message += \"Death\" if predictionResult == 0 else \"Life!\"\n",
    "print(message)"
   ]
  },
  {
   "cell_type": "markdown",
   "id": "improving-speech",
   "metadata": {},
   "source": [
    "## Punto 3"
   ]
  },
  {
   "cell_type": "code",
   "execution_count": 8,
   "id": "younger-crawford",
   "metadata": {},
   "outputs": [],
   "source": [
    "import pandas as pd\n",
    "import matplotlib.pyplot as plt\n",
    "%matplotlib inline"
   ]
  },
  {
   "cell_type": "code",
   "execution_count": 9,
   "id": "mysterious-consultation",
   "metadata": {},
   "outputs": [
    {
     "data": {
      "text/html": [
       "<div>\n",
       "<style scoped>\n",
       "    .dataframe tbody tr th:only-of-type {\n",
       "        vertical-align: middle;\n",
       "    }\n",
       "\n",
       "    .dataframe tbody tr th {\n",
       "        vertical-align: top;\n",
       "    }\n",
       "\n",
       "    .dataframe thead th {\n",
       "        text-align: right;\n",
       "    }\n",
       "</style>\n",
       "<table border=\"1\" class=\"dataframe\">\n",
       "  <thead>\n",
       "    <tr style=\"text-align: right;\">\n",
       "      <th></th>\n",
       "      <th>F1</th>\n",
       "      <th>F2</th>\n",
       "      <th>Binary_Label</th>\n",
       "    </tr>\n",
       "  </thead>\n",
       "  <tbody>\n",
       "    <tr>\n",
       "      <th>0</th>\n",
       "      <td>0.893841</td>\n",
       "      <td>0.448383</td>\n",
       "      <td>0.0</td>\n",
       "    </tr>\n",
       "    <tr>\n",
       "      <th>1</th>\n",
       "      <td>-0.763892</td>\n",
       "      <td>0.237633</td>\n",
       "      <td>1.0</td>\n",
       "    </tr>\n",
       "    <tr>\n",
       "      <th>2</th>\n",
       "      <td>-0.285130</td>\n",
       "      <td>-0.747463</td>\n",
       "      <td>1.0</td>\n",
       "    </tr>\n",
       "    <tr>\n",
       "      <th>3</th>\n",
       "      <td>-0.844328</td>\n",
       "      <td>-0.535827</td>\n",
       "      <td>0.0</td>\n",
       "    </tr>\n",
       "    <tr>\n",
       "      <th>4</th>\n",
       "      <td>0.462058</td>\n",
       "      <td>-0.653071</td>\n",
       "      <td>1.0</td>\n",
       "    </tr>\n",
       "  </tbody>\n",
       "</table>\n",
       "</div>"
      ],
      "text/plain": [
       "         F1        F2  Binary_Label\n",
       "0  0.893841  0.448383           0.0\n",
       "1 -0.763892  0.237633           1.0\n",
       "2 -0.285130 -0.747463           1.0\n",
       "3 -0.844328 -0.535827           0.0\n",
       "4  0.462058 -0.653071           1.0"
      ]
     },
     "execution_count": 9,
     "metadata": {},
     "output_type": "execute_result"
    }
   ],
   "source": [
    "df = pd.read_csv(\"./q1_data.csv\",names=[\"F1\",\"F2\",\"Binary_Label\"])\n",
    "df.head()"
   ]
  },
  {
   "cell_type": "code",
   "execution_count": 10,
   "id": "threaded-sheffield",
   "metadata": {},
   "outputs": [
    {
     "data": {
      "text/plain": [
       "[<matplotlib.lines.Line2D at 0x7fc8631d1d30>]"
      ]
     },
     "execution_count": 10,
     "metadata": {},
     "output_type": "execute_result"
    },
    {
     "data": {
      "image/png": "[encoded data removed]",
      "text/plain": [
       "<Figure size 432x288 with 1 Axes>"
      ]
     },
     "metadata": {
      "needs_background": "light"
     },
     "output_type": "display_data"
    }
   ],
   "source": [
    "subsection = 30\n",
    "indexes = df.index[:subsection]\n",
    "plt.plot(indexes,df[\"F1\"][:subsection])\n",
    "plt.plot(indexes,df[\"F2\"][:subsection])"
   ]
  },
  {
   "cell_type": "code",
   "execution_count": 11,
   "id": "confused-schedule",
   "metadata": {},
   "outputs": [],
   "source": [
    "from sklearn.model_selection import cross_validate\n",
    "from sklearn.linear_model import LogisticRegression"
   ]
  },
  {
   "cell_type": "code",
   "execution_count": 12,
   "id": "developing-bishop",
   "metadata": {},
   "outputs": [
    {
     "name": "stdout",
     "output_type": "stream",
     "text": [
      "{'fitTime': 0.0006140947341918945, 'scoreTime': 0.00025758743286132815, 'testScore': 0.047}\n"
     ]
    }
   ],
   "source": [
    "logReg = LogisticRegression()\n",
    "cv_results = cross_validate(logReg,df[[\"F1\",\"F2\"]],df[\"Binary_Label\"],cv=10,return_estimator=True)\n",
    "# print(cv_results)\n",
    "temp = np.where(cv_results[\"test_score\"] == max(cv_results[\"test_score\"]))[0][0]\n",
    "bestModel = cv_results[\"estimator\"][temp]\n",
    "result = {\n",
    "    \"fitTime\"    : max(cv_results[\"fit_time\"])/len(cv_results[\"fit_time\"]),\n",
    "    \"scoreTime\"  : max(cv_results[\"score_time\"])/len(cv_results[\"score_time\"]),\n",
    "    \"testScore\"  : max(cv_results[\"test_score\"])/len(cv_results[\"test_score\"])\n",
    "}\n",
    "print(result)"
   ]
  },
  {
   "cell_type": "code",
   "execution_count": 13,
   "id": "pointed-harmony",
   "metadata": {},
   "outputs": [
    {
     "data": {
      "text/plain": [
       "0.5"
      ]
     },
     "execution_count": 13,
     "metadata": {},
     "output_type": "execute_result"
    }
   ],
   "source": [
    "bestModel.score(df[[\"F1\",\"F2\"]],df[\"Binary_Label\"])"
   ]
  }
 ],
 "metadata": {
  "kernelspec": {
   "display_name": "Python 3",
   "language": "python",
   "name": "python3"
  },
  "language_info": {
   "codemirror_mode": {
    "name": "ipython",
    "version": 3
   },
   "file_extension": ".py",
   "mimetype": "text/x-python",
   "name": "python",
   "nbconvert_exporter": "python",
   "pygments_lexer": "ipython3",
   "version": "3.8.5"
  }
 },
 "nbformat": 4,
 "nbformat_minor": 5
}
