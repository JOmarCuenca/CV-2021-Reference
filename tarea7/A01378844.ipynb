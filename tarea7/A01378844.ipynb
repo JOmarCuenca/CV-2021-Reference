{
 "cells": [
  {
   "cell_type": "markdown",
   "id": "certified-encounter",
   "metadata": {},
   "source": [
    "# Question 1 Homocedasticidad"
   ]
  },
  {
   "cell_type": "markdown",
   "id": "annoying-replication",
   "metadata": {},
   "source": [
    "Homoceddasticidad es una propiedad de la estadistica.\n",
    "\n",
    "Es el fenomeno que ocurre cuando la varianza de errores de un modelo de prediccion RLM, es \"homogeneo\".\n",
    "Es decir, es el mismo a traves de todas las variables del modelo.\n",
    "\n",
    "Esta información puede ser encontrada en:\n",
    "\n",
    " - [Wikipedia](https://es.wikipedia.org/wiki/Homocedasticidad)\n",
    " - [Economipedia](https://economipedia.com/definiciones/homocedasticidad.html)"
   ]
  },
  {
   "cell_type": "markdown",
   "id": "nominated-monthly",
   "metadata": {},
   "source": [
    "# Question 2 Correlación y covarianza"
   ]
  },
  {
   "cell_type": "markdown",
   "id": "private-thinking",
   "metadata": {},
   "source": [
    "## Covarianza\n",
    "\n",
    "Este es un valor que indica el grado de variacion entre 2 variables.\n",
    "Es un dato preeliminar que se necesita para sacar la correlacion, expuesta mas adelante.\n",
    "\n",
    "Sirve para indicar la direccion de la relacion entre 2 variables."
   ]
  },
  {
   "cell_type": "markdown",
   "id": "continued-advisory",
   "metadata": {},
   "source": [
    "<img src=\"https://sitiobigdata.com/wp-content/uploads/2019/10/Qu%C3%A9-es-Covarianza-y-correlaci%C3%B3n1.png\"\n",
    "     alt=\"Formula de la covarianza\"/>"
   ]
  },
  {
   "cell_type": "markdown",
   "id": "ranging-needle",
   "metadata": {},
   "source": [
    "## Correlacion\n",
    "\n",
    "Este es un valor que necesita de la covarianza de 2 variables.\n",
    "Indica la fuerza con la que se relacionan estas 2 variables, cuanto más se acercan los valores a 1, mayor la fuerza es."
   ]
  },
  {
   "cell_type": "markdown",
   "id": "endangered-crime",
   "metadata": {},
   "source": [
    "<img src=\"https://sitiobigdata.com/wp-content/uploads/2019/10/Qu%C3%A9-es-Covarianza-y-correlaci%C3%B3n2.png\"\n",
    "     alt=\"Formula de la correlacion\"/>\n",
    "<img src=\"https://wikimedia.org/api/rest_v1/media/math/render/svg/e3d3ffe6b2c7a19ecf67f8c21e66df62e54b07ae\"\n",
    "     alt=\"Wikipedia definition\"/>"
   ]
  },
  {
   "cell_type": "markdown",
   "id": "greatest-marriage",
   "metadata": {},
   "source": [
    "La informacion de la pregunta 2 se encontró en los siguientes links\n",
    " - [Covarianza](https://es.wikipedia.org/wiki/Covarianza)\n",
    " - [Correlacion](https://es.wikipedia.org/wiki/Correlaci%C3%B3n)\n",
    " - [Covarianza y correlacion](https://es.wikipedia.org/wiki/Correlaci%C3%B3n)"
   ]
  },
  {
   "cell_type": "markdown",
   "id": "united-airline",
   "metadata": {},
   "source": [
    "# Question 3"
   ]
  },
  {
   "cell_type": "code",
   "execution_count": 1,
   "id": "organizational-chain",
   "metadata": {},
   "outputs": [],
   "source": [
    "import pandas as pd\n",
    "import numpy as np\n",
    "import math"
   ]
  },
  {
   "cell_type": "code",
   "execution_count": 2,
   "id": "pediatric-japanese",
   "metadata": {},
   "outputs": [
    {
     "data": {
      "text/html": [
       "<div>\n",
       "<style scoped>\n",
       "    .dataframe tbody tr th:only-of-type {\n",
       "        vertical-align: middle;\n",
       "    }\n",
       "\n",
       "    .dataframe tbody tr th {\n",
       "        vertical-align: top;\n",
       "    }\n",
       "\n",
       "    .dataframe thead th {\n",
       "        text-align: right;\n",
       "    }\n",
       "</style>\n",
       "<table border=\"1\" class=\"dataframe\">\n",
       "  <thead>\n",
       "    <tr style=\"text-align: right;\">\n",
       "      <th></th>\n",
       "      <th>RAM</th>\n",
       "      <th>Price</th>\n",
       "    </tr>\n",
       "  </thead>\n",
       "  <tbody>\n",
       "    <tr>\n",
       "      <th>0</th>\n",
       "      <td>4</td>\n",
       "      <td>7000</td>\n",
       "    </tr>\n",
       "    <tr>\n",
       "      <th>1</th>\n",
       "      <td>8</td>\n",
       "      <td>9000</td>\n",
       "    </tr>\n",
       "    <tr>\n",
       "      <th>2</th>\n",
       "      <td>12</td>\n",
       "      <td>12000</td>\n",
       "    </tr>\n",
       "    <tr>\n",
       "      <th>3</th>\n",
       "      <td>16</td>\n",
       "      <td>16000</td>\n",
       "    </tr>\n",
       "  </tbody>\n",
       "</table>\n",
       "</div>"
      ],
      "text/plain": [
       "   RAM  Price\n",
       "0    4   7000\n",
       "1    8   9000\n",
       "2   12  12000\n",
       "3   16  16000"
      ]
     },
     "execution_count": 2,
     "metadata": {},
     "output_type": "execute_result"
    }
   ],
   "source": [
    "df = pd.DataFrame({\n",
    "    \"RAM\" : [4,8,12,16],\n",
    "    \"Price\" : np.array([7,9,12,16])*1000\n",
    "})\n",
    "df.head()"
   ]
  },
  {
   "cell_type": "code",
   "execution_count": 3,
   "id": "dried-broadcast",
   "metadata": {},
   "outputs": [
    {
     "data": {
      "text/html": [
       "<div>\n",
       "<style scoped>\n",
       "    .dataframe tbody tr th:only-of-type {\n",
       "        vertical-align: middle;\n",
       "    }\n",
       "\n",
       "    .dataframe tbody tr th {\n",
       "        vertical-align: top;\n",
       "    }\n",
       "\n",
       "    .dataframe thead th {\n",
       "        text-align: right;\n",
       "    }\n",
       "</style>\n",
       "<table border=\"1\" class=\"dataframe\">\n",
       "  <thead>\n",
       "    <tr style=\"text-align: right;\">\n",
       "      <th></th>\n",
       "      <th>RAM</th>\n",
       "      <th>Price</th>\n",
       "    </tr>\n",
       "  </thead>\n",
       "  <tbody>\n",
       "    <tr>\n",
       "      <th>count</th>\n",
       "      <td>4.000000</td>\n",
       "      <td>4.000000</td>\n",
       "    </tr>\n",
       "    <tr>\n",
       "      <th>mean</th>\n",
       "      <td>10.000000</td>\n",
       "      <td>11000.000000</td>\n",
       "    </tr>\n",
       "    <tr>\n",
       "      <th>std</th>\n",
       "      <td>5.163978</td>\n",
       "      <td>3915.780041</td>\n",
       "    </tr>\n",
       "    <tr>\n",
       "      <th>min</th>\n",
       "      <td>4.000000</td>\n",
       "      <td>7000.000000</td>\n",
       "    </tr>\n",
       "    <tr>\n",
       "      <th>25%</th>\n",
       "      <td>7.000000</td>\n",
       "      <td>8500.000000</td>\n",
       "    </tr>\n",
       "    <tr>\n",
       "      <th>50%</th>\n",
       "      <td>10.000000</td>\n",
       "      <td>10500.000000</td>\n",
       "    </tr>\n",
       "    <tr>\n",
       "      <th>75%</th>\n",
       "      <td>13.000000</td>\n",
       "      <td>13000.000000</td>\n",
       "    </tr>\n",
       "    <tr>\n",
       "      <th>max</th>\n",
       "      <td>16.000000</td>\n",
       "      <td>16000.000000</td>\n",
       "    </tr>\n",
       "  </tbody>\n",
       "</table>\n",
       "</div>"
      ],
      "text/plain": [
       "             RAM         Price\n",
       "count   4.000000      4.000000\n",
       "mean   10.000000  11000.000000\n",
       "std     5.163978   3915.780041\n",
       "min     4.000000   7000.000000\n",
       "25%     7.000000   8500.000000\n",
       "50%    10.000000  10500.000000\n",
       "75%    13.000000  13000.000000\n",
       "max    16.000000  16000.000000"
      ]
     },
     "execution_count": 3,
     "metadata": {},
     "output_type": "execute_result"
    }
   ],
   "source": [
    "df.describe()"
   ]
  },
  {
   "cell_type": "code",
   "execution_count": 4,
   "id": "clinical-matthew",
   "metadata": {},
   "outputs": [
    {
     "name": "stdout",
     "output_type": "stream",
     "text": [
      "La covarianza es >> 20000.0\n"
     ]
    }
   ],
   "source": [
    "vRam = df[\"RAM\"].to_numpy()\n",
    "vPrice = df[\"Price\"].to_numpy()\n",
    "sumRam = vRam.sum()\n",
    "sumPrice = vPrice.sum()\n",
    "avgRam = sumRam/len(vRam)\n",
    "avgPrice = sumPrice/len(vPrice)\n",
    "devRam = vRam - avgRam\n",
    "devPrice = vPrice - avgPrice\n",
    "sumDev = np.dot(devRam.T,devPrice)\n",
    "coVar = sumDev/(len(vRam) - 1)\n",
    "print(f\"La covarianza es >> {coVar}\")"
   ]
  },
  {
   "cell_type": "code",
   "execution_count": 5,
   "id": "appreciated-coral",
   "metadata": {},
   "outputs": [
    {
     "name": "stdout",
     "output_type": "stream",
     "text": [
      "La correlacion es >> 0.3296902366978935\n"
     ]
    }
   ],
   "source": [
    "sumRam = math.sqrt(np.dot(devRam.T,devRam))\n",
    "sumPrice = math.sqrt(np.dot(devPrice.T,devPrice))\n",
    "print(f\"La correlacion es >> {coVar/(sumRam*sumPrice)}\")"
   ]
  },
  {
   "cell_type": "markdown",
   "id": "outdoor-gathering",
   "metadata": {},
   "source": [
    "## Question 4 Colinealidad y multicolinealidad\n",
    "\n",
    "La **multicolinealidad** es la correlación alta entre más de dos variables explicativas.\n",
    "Esta correlación debe de ser fuerte, más no perfecta.\n",
    "\n",
    "La **colinealidad** es la super categoria de la multicolinealidad, es decir hay varios tipos de multicolinealidad, exacta y aproximada, y la colinealidad es la categoria que encapsula ambas."
   ]
  },
  {
   "cell_type": "markdown",
   "id": "numerical-blond",
   "metadata": {},
   "source": [
    "### Cómo identificar la multicolinealidad\n",
    "\n",
    "Usando una matriz de correlación se puede identificar el tipo de colinealidad.\n",
    "\n",
    "Dependiendo del valor de la determinante de la matriz, se puede identificar qué tipo de colinealidad es.\n",
    "\n",
    "Si la colinealidad es = 0, eso quiere decir que es una **multicolinealidad exacta**.\n",
    "\n",
    "En caso de que sea cercana a 0, es una **multicolinealidad aproximada**."
   ]
  },
  {
   "cell_type": "markdown",
   "id": "celtic-pixel",
   "metadata": {},
   "source": [
    "Esta información fue encontrada en: \n",
    " - [Economipedia](https://economipedia.com/definiciones/multicolinealidad.html)\n",
    " - [Wikipedia](https://es.wikipedia.org/wiki/Multicolinealidad#Multicolinealidad_aproximada)"
   ]
  }
 ],
 "metadata": {
  "kernelspec": {
   "display_name": "Python 3",
   "language": "python",
   "name": "python3"
  },
  "language_info": {
   "codemirror_mode": {
    "name": "ipython",
    "version": 3
   },
   "file_extension": ".py",
   "mimetype": "text/x-python",
   "name": "python",
   "nbconvert_exporter": "python",
   "pygments_lexer": "ipython3",
   "version": "3.8.5"
  }
 },
 "nbformat": 4,
 "nbformat_minor": 5
}
