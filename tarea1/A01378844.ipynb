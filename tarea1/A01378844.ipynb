{
 "cells": [
  {
   "cell_type": "code",
   "execution_count": 44,
   "id": "missing-addiction",
   "metadata": {},
   "outputs": [
    {
     "data": {
      "text/plain": [
       "['Mario', 'DK', 'Link', 'Samus', 'Yoshi', 'Kirby', 'Fox', 'Pikachu']"
      ]
     },
     "execution_count": 44,
     "metadata": {},
     "output_type": "execute_result"
    }
   ],
   "source": [
    "smash = ['Mario', 'DK', 'Link', 'Samus', 'Yoshi',\n",
    "'Kirby', 'Fox', 'Pikachu']\n",
    "smash"
   ]
  },
  {
   "cell_type": "code",
   "execution_count": 45,
   "id": "noticed-candy",
   "metadata": {},
   "outputs": [
    {
     "data": {
      "text/plain": [
       "['Mario',\n",
       " 'DK',\n",
       " 'Link',\n",
       " 'Samus',\n",
       " 'Yoshi',\n",
       " 'Kirby',\n",
       " 'Fox',\n",
       " 'Pikachu',\n",
       " 'Luigi',\n",
       " 'Ness',\n",
       " 'C. Falcon',\n",
       " 'Jigglypuff']"
      ]
     },
     "execution_count": 45,
     "metadata": {},
     "output_type": "execute_result"
    }
   ],
   "source": [
    "smash.extend(['Luigi', 'Ness', 'C. Falcon', 'Jigglypuff'])\n",
    "smash"
   ]
  },
  {
   "cell_type": "code",
   "execution_count": 46,
   "id": "attended-perception",
   "metadata": {},
   "outputs": [
    {
     "data": {
      "text/plain": [
       "['Mario',\n",
       " 'DK',\n",
       " 'Link',\n",
       " 'Samus',\n",
       " 'Yoshi',\n",
       " 'Kirby',\n",
       " 'Fox',\n",
       " 'Pikachu',\n",
       " 'Luigi',\n",
       " 'Ness',\n",
       " 'C. Falcon',\n",
       " 'Jigglypuff',\n",
       " ['Metal Mario', 'Polygon Team', 'Master Hand']]"
      ]
     },
     "execution_count": 46,
     "metadata": {},
     "output_type": "execute_result"
    }
   ],
   "source": [
    "smash.append(['Metal Mario', 'Polygon Team', 'Master Hand'])\n",
    "smash"
   ]
  },
  {
   "cell_type": "code",
   "execution_count": 48,
   "id": "lined-journalism",
   "metadata": {},
   "outputs": [
    {
     "data": {
      "text/plain": [
       "['Original roster']"
      ]
     },
     "execution_count": 48,
     "metadata": {},
     "output_type": "execute_result"
    }
   ],
   "source": [
    "temp = ['Original roster']\n",
    "temp.extend(smash[8:])\n",
    "smash = temp\n",
    "smash"
   ]
  },
  {
   "cell_type": "code",
   "execution_count": 11,
   "id": "serial-neighborhood",
   "metadata": {},
   "outputs": [
    {
     "data": {
      "text/plain": [
       "[[0, 0, 0, 0], [0, 0, 0, 0], [0, 0, 0, 0]]"
      ]
     },
     "execution_count": 11,
     "metadata": {},
     "output_type": "execute_result"
    }
   ],
   "source": [
    "def null_matrix(m,n):\n",
    "    return [[0]*n]*m\n",
    "temp = null_matrix(3,4)\n",
    "temp"
   ]
  },
  {
   "cell_type": "code",
   "execution_count": 49,
   "id": "tribal-button",
   "metadata": {},
   "outputs": [
    {
     "data": {
      "text/plain": [
       "[[['?', '?'], ['?', '?'], ['?', '?']],\n",
       " [['?', '?'], ['?', '?'], ['?', '?']],\n",
       " [['?', '?'], ['?', '?'], ['?', '?']],\n",
       " [['?', '?'], ['?', '?'], ['?', '?']]]"
      ]
     },
     "execution_count": 49,
     "metadata": {},
     "output_type": "execute_result"
    }
   ],
   "source": [
    "[[['?']*2]*3]*4"
   ]
  },
  {
   "cell_type": "code",
   "execution_count": 50,
   "id": "rolled-nigeria",
   "metadata": {},
   "outputs": [
    {
     "data": {
      "text/plain": [
       "{'Disney+': 7, 'Netflix': 8.99, 'Prime': 12.99}"
      ]
     },
     "execution_count": 50,
     "metadata": {},
     "output_type": "execute_result"
    }
   ],
   "source": [
    "mensualidad = {'Disney+': 7, 'Netflix': 8.99, 'Prime': 12.99}\n",
    "mensualidad"
   ]
  },
  {
   "cell_type": "code",
   "execution_count": 51,
   "id": "endangered-denmark",
   "metadata": {},
   "outputs": [
    {
     "data": {
      "text/plain": [
       "{'Netflix': 139, 'Prime': 99, 'Blim': 109}"
      ]
     },
     "execution_count": 51,
     "metadata": {},
     "output_type": "execute_result"
    }
   ],
   "source": [
    "mensualidad.pop('Disney+')\n",
    "mensualidad['Blim'] = 109\n",
    "mensualidad['Netflix'] = 139\n",
    "mensualidad['Prime'] = 99\n",
    "mensualidad"
   ]
  },
  {
   "cell_type": "code",
   "execution_count": 52,
   "id": "perfect-screen",
   "metadata": {},
   "outputs": [],
   "source": [
    "import numpy as np"
   ]
  },
  {
   "cell_type": "code",
   "execution_count": 53,
   "id": "hollow-mouth",
   "metadata": {},
   "outputs": [
    {
     "data": {
      "text/plain": [
       "array([[ 1,  2,  3,  4],\n",
       "       [ 5,  6,  7,  8],\n",
       "       [ 9, 10, 11, 12],\n",
       "       [13, 14, 15, 16]])"
      ]
     },
     "execution_count": 53,
     "metadata": {},
     "output_type": "execute_result"
    }
   ],
   "source": [
    "raw = np.array(range(1,17))\n",
    "raw = raw.reshape(4,4)\n",
    "raw"
   ]
  },
  {
   "cell_type": "code",
   "execution_count": 54,
   "id": "fitting-worry",
   "metadata": {},
   "outputs": [
    {
     "data": {
      "text/plain": [
       "array([[2, 3],\n",
       "       [6, 7]])"
      ]
     },
     "execution_count": 54,
     "metadata": {},
     "output_type": "execute_result"
    }
   ],
   "source": [
    "raw[0:2, 1 : 3]"
   ]
  },
  {
   "cell_type": "code",
   "execution_count": 55,
   "id": "concrete-respondent",
   "metadata": {},
   "outputs": [
    {
     "data": {
      "text/plain": [
       "array([[ 7,  8],\n",
       "       [11, 12],\n",
       "       [15, 16]])"
      ]
     },
     "execution_count": 55,
     "metadata": {},
     "output_type": "execute_result"
    }
   ],
   "source": [
    "raw[1:,2:]"
   ]
  },
  {
   "cell_type": "code",
   "execution_count": 56,
   "id": "baking-startup",
   "metadata": {},
   "outputs": [
    {
     "data": {
      "text/plain": [
       "array([[ 1,  2,  3],\n",
       "       [ 5,  6,  7],\n",
       "       [ 9, 10, 11],\n",
       "       [13, 14, 15]])"
      ]
     },
     "execution_count": 56,
     "metadata": {},
     "output_type": "execute_result"
    }
   ],
   "source": [
    "features = raw[:,:-1]\n",
    "features"
   ]
  },
  {
   "cell_type": "code",
   "execution_count": 57,
   "id": "african-jamaica",
   "metadata": {},
   "outputs": [
    {
     "data": {
      "text/plain": [
       "array([ 4,  8, 12, 16])"
      ]
     },
     "execution_count": 57,
     "metadata": {},
     "output_type": "execute_result"
    }
   ],
   "source": [
    "label = raw[:,-1]\n",
    "label"
   ]
  },
  {
   "cell_type": "code",
   "execution_count": 58,
   "id": "express-dealing",
   "metadata": {},
   "outputs": [
    {
     "data": {
      "text/plain": [
       "[(array([1, 2, 3]), 4),\n",
       " (array([5, 6, 7]), 8),\n",
       " (array([ 9, 10, 11]), 12),\n",
       " (array([13, 14, 15]), 16)]"
      ]
     },
     "execution_count": 58,
     "metadata": {},
     "output_type": "execute_result"
    }
   ],
   "source": [
    "data = list(zip(features,label))\n",
    "data"
   ]
  },
  {
   "cell_type": "code",
   "execution_count": 59,
   "id": "gorgeous-residence",
   "metadata": {},
   "outputs": [
    {
     "data": {
      "text/plain": [
       "[(array([1, 2, 3]), 4)]"
      ]
     },
     "execution_count": 59,
     "metadata": {},
     "output_type": "execute_result"
    }
   ],
   "source": [
    "test = [data[0]]\n",
    "test"
   ]
  },
  {
   "cell_type": "code",
   "execution_count": 40,
   "id": "mathematical-enzyme",
   "metadata": {},
   "outputs": [
    {
     "data": {
      "text/plain": [
       "[(array([5, 6, 7]), 8), (array([ 9, 10, 11]), 12), (array([13, 14, 15]), 16)]"
      ]
     },
     "execution_count": 40,
     "metadata": {},
     "output_type": "execute_result"
    }
   ],
   "source": [
    "train = data[1:]\n",
    "train"
   ]
  },
  {
   "cell_type": "code",
   "execution_count": null,
   "id": "similar-portland",
   "metadata": {},
   "outputs": [],
   "source": [
    "# Si entiendo bien la pregunta lo que pide es si separo a la poblacion que le gusta smash como nuevo universo.\n",
    "# cual es la probabilidad de que le guste zelda en esta nueva poblacion (a alguien que le gusta smash)?\n",
    "# la probabilidad seria 50%"
   ]
  },
  {
   "cell_type": "code",
   "execution_count": null,
   "id": "handmade-harbor",
   "metadata": {},
   "outputs": [],
   "source": [
    "# si la prueba fuera 100% efectiva tendria una probabilidad del .1% de estar enfermo.\n",
    "# la prueba tiene una eficacia del 99% por lo que mi probabilidad de estar enfermo es .099%"
   ]
  },
  {
   "cell_type": "code",
   "execution_count": 41,
   "id": "focused-chrome",
   "metadata": {},
   "outputs": [],
   "source": [
    "#f(x) = (x^3)*cos(x^2)\n",
    "#f'(x) = 3*(x^2)*cos(x^2) - 2*(x^4)*sen(x^2)"
   ]
  },
  {
   "cell_type": "code",
   "execution_count": 42,
   "id": "reverse-techno",
   "metadata": {},
   "outputs": [],
   "source": [
    "#f(x) = (x^2)*sin(x) + x^4\n",
    "#f'(x) = 2*x*sin(x) + (x^2)*cos(x) + 4*x^3"
   ]
  },
  {
   "cell_type": "code",
   "execution_count": 43,
   "id": "legitimate-junction",
   "metadata": {},
   "outputs": [],
   "source": [
    "#f(x,z) = x^3 + z*x^2 + x*z^2 + z^3\n",
    "#df/dx = 3*x^2 + 2*x*z + z^2\n",
    "#df/dz = 3*z^2 + 2*x*z + x^2"
   ]
  },
  {
   "cell_type": "code",
   "execution_count": null,
   "id": "atlantic-haven",
   "metadata": {},
   "outputs": [],
   "source": []
  }
 ],
 "metadata": {
  "kernelspec": {
   "display_name": "Python 3",
   "language": "python",
   "name": "python3"
  },
  "language_info": {
   "codemirror_mode": {
    "name": "ipython",
    "version": 3
   },
   "file_extension": ".py",
   "mimetype": "text/x-python",
   "name": "python",
   "nbconvert_exporter": "python",
   "pygments_lexer": "ipython3",
   "version": "3.6.9"
  }
 },
 "nbformat": 4,
 "nbformat_minor": 5
}
