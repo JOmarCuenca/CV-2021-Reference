{
 "cells": [
  {
   "cell_type": "code",
   "execution_count": 2,
   "id": "missing-addiction",
   "metadata": {},
   "outputs": [],
   "source": [
    "smash = ['Mario', 'DK', 'Link', 'Samus', 'Yoshi',\n",
    "'Kirby', 'Fox', 'Pikachu']"
   ]
  },
  {
   "cell_type": "code",
   "execution_count": 4,
   "id": "noticed-candy",
   "metadata": {},
   "outputs": [],
   "source": [
    "smash.extend(['Luigi', 'Ness', 'C. Falcon', 'Jigglypuff'])"
   ]
  },
  {
   "cell_type": "code",
   "execution_count": 5,
   "id": "attended-perception",
   "metadata": {},
   "outputs": [],
   "source": [
    "smash.append(['Metal Mario', 'Polygon Team', 'Master Hand'])"
   ]
  },
  {
   "cell_type": "code",
   "execution_count": 9,
   "id": "lined-journalism",
   "metadata": {},
   "outputs": [],
   "source": [
    "temp = ['Original roster']\n",
    "temp.extend(smash[8:])\n",
    "smash = temp"
   ]
  },
  {
   "cell_type": "code",
   "execution_count": null,
   "id": "serial-neighborhood",
   "metadata": {},
   "outputs": [],
   "source": []
  }
 ],
 "metadata": {
  "kernelspec": {
   "display_name": "Python 3",
   "language": "python",
   "name": "python3"
  },
  "language_info": {
   "codemirror_mode": {
    "name": "ipython",
    "version": 3
   },
   "file_extension": ".py",
   "mimetype": "text/x-python",
   "name": "python",
   "nbconvert_exporter": "python",
   "pygments_lexer": "ipython3",
   "version": "3.6.9"
  }
 },
 "nbformat": 4,
 "nbformat_minor": 5
}
