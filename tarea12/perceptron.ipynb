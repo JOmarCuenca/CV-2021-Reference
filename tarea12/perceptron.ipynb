{
 "cells": [
  {
   "cell_type": "markdown",
   "id": "bored-treaty",
   "metadata": {},
   "source": [
    "# Tarea 12 Perceptron"
   ]
  },
  {
   "cell_type": "markdown",
   "id": "sustainable-institution",
   "metadata": {},
   "source": [
    "Escrito por Jesús Omar Cuenca Espino \n",
    "\n",
    "A01378844\n",
    "\n",
    "9/04/2021"
   ]
  },
  {
   "cell_type": "code",
   "execution_count": 1,
   "id": "united-button",
   "metadata": {},
   "outputs": [],
   "source": [
    "import numpy as np\n",
    "LEARNING_RATE = .1"
   ]
  },
  {
   "cell_type": "markdown",
   "id": "several-response",
   "metadata": {},
   "source": [
    "## Funcion de activacion"
   ]
  },
  {
   "cell_type": "code",
   "execution_count": 2,
   "id": "opened-cylinder",
   "metadata": {},
   "outputs": [],
   "source": [
    "def activation(a):\n",
    "    threshold = .5\n",
    "    if(a >= threshold):\n",
    "        return 1\n",
    "    return 0"
   ]
  },
  {
   "cell_type": "markdown",
   "id": "answering-appraisal",
   "metadata": {},
   "source": [
    "## Funcion de perceptron"
   ]
  },
  {
   "cell_type": "code",
   "execution_count": 3,
   "id": "recovered-fever",
   "metadata": {},
   "outputs": [],
   "source": [
    "def perceptron(data,w,evaluate=False):\n",
    "    global LEARNING_RATE\n",
    "    if(evaluate):\n",
    "        return np.array(list(map(activation,np.dot(data,w))))\n",
    "    else:\n",
    "        nW = w\n",
    "        epoch = 0\n",
    "        inp     = data[:,:-1]\n",
    "        results = data[:,-1]\n",
    "        while(epoch < 100):\n",
    "            epoch += 1\n",
    "            purePrediction = np.dot(inp,nW)\n",
    "            pred = np.array(list(map(activation,purePrediction)))\n",
    "            error = (results - pred)\n",
    "            nW   = nW + LEARNING_RATE * np.dot(error,inp)\n",
    "        return nW"
   ]
  },
  {
   "cell_type": "markdown",
   "id": "honey-tobacco",
   "metadata": {},
   "source": [
    "## Training the Not Perceptron"
   ]
  },
  {
   "cell_type": "code",
   "execution_count": 4,
   "id": "swiss-forwarding",
   "metadata": {},
   "outputs": [],
   "source": [
    "notTable = [\n",
    "    [1,1,0],\n",
    "    [0,1,1]\n",
    "]\n",
    "notTable = np.array(notTable)\n",
    "notWeights = np.ones(2)"
   ]
  },
  {
   "cell_type": "code",
   "execution_count": 5,
   "id": "amended-space",
   "metadata": {},
   "outputs": [
    {
     "name": "stdout",
     "output_type": "stream",
     "text": [
      "[-0.1  0.5]\n"
     ]
    }
   ],
   "source": [
    "notWeights = perceptron(notTable,notWeights)\n",
    "print(notWeights)"
   ]
  },
  {
   "cell_type": "code",
   "execution_count": 6,
   "id": "architectural-frederick",
   "metadata": {},
   "outputs": [
    {
     "data": {
      "text/plain": [
       "array([ True,  True])"
      ]
     },
     "execution_count": 6,
     "metadata": {},
     "output_type": "execute_result"
    }
   ],
   "source": [
    "perceptron(notTable[:,:-1],notWeights,True) == notTable[:,-1]"
   ]
  },
  {
   "cell_type": "markdown",
   "id": "daily-jacob",
   "metadata": {},
   "source": [
    "## Training for AND Perceptron"
   ]
  },
  {
   "cell_type": "code",
   "execution_count": 7,
   "id": "liked-member",
   "metadata": {},
   "outputs": [],
   "source": [
    "andTable = [\n",
    "    [0,0,1,0],\n",
    "    [0,1,1,0],\n",
    "    [1,0,1,0],\n",
    "    [1,1,1,1]\n",
    "]\n",
    "andTable = np.array(andTable)\n",
    "andWeights = np.ones(3)"
   ]
  },
  {
   "cell_type": "code",
   "execution_count": 8,
   "id": "curious-chrome",
   "metadata": {},
   "outputs": [
    {
     "name": "stdout",
     "output_type": "stream",
     "text": [
      "[ 0.5  0.5 -0.2]\n"
     ]
    }
   ],
   "source": [
    "andWeights = perceptron(andTable,andWeights)\n",
    "print(andWeights)"
   ]
  },
  {
   "cell_type": "code",
   "execution_count": 9,
   "id": "immediate-avenue",
   "metadata": {},
   "outputs": [
    {
     "data": {
      "text/plain": [
       "array([ True,  True,  True,  True])"
      ]
     },
     "execution_count": 9,
     "metadata": {},
     "output_type": "execute_result"
    }
   ],
   "source": [
    "perceptron(andTable[:,:-1],andWeights,True) == andTable[:,-1]"
   ]
  },
  {
   "cell_type": "markdown",
   "id": "behavioral-people",
   "metadata": {},
   "source": [
    "## Training the OR Perceptron"
   ]
  },
  {
   "cell_type": "code",
   "execution_count": 10,
   "id": "distinguished-appreciation",
   "metadata": {},
   "outputs": [],
   "source": [
    "orTable = [\n",
    "    [0,0,1,0],\n",
    "    [0,1,1,1],\n",
    "    [1,0,1,1],\n",
    "    [1,1,1,1]\n",
    "]\n",
    "orTable = np.array(orTable)\n",
    "orWeights = np.ones(3)"
   ]
  },
  {
   "cell_type": "code",
   "execution_count": 11,
   "id": "antique-diploma",
   "metadata": {},
   "outputs": [
    {
     "name": "stdout",
     "output_type": "stream",
     "text": [
      "[1.  1.  0.4]\n"
     ]
    }
   ],
   "source": [
    "orWeights = perceptron(orTable,orWeights)\n",
    "print(orWeights)"
   ]
  },
  {
   "cell_type": "code",
   "execution_count": 12,
   "id": "behind-communist",
   "metadata": {},
   "outputs": [
    {
     "data": {
      "text/plain": [
       "array([ True,  True,  True,  True])"
      ]
     },
     "execution_count": 12,
     "metadata": {},
     "output_type": "execute_result"
    }
   ],
   "source": [
    "perceptron(orTable[:,:-1],orWeights,True) == orTable[:,-1]"
   ]
  },
  {
   "cell_type": "markdown",
   "id": "timely-presentation",
   "metadata": {},
   "source": [
    "## Training the NOR Perceptron"
   ]
  },
  {
   "cell_type": "code",
   "execution_count": 13,
   "id": "lucky-colon",
   "metadata": {},
   "outputs": [],
   "source": [
    "norTable = [\n",
    "    [0,0,1,1],\n",
    "    [0,1,1,0],\n",
    "    [1,0,1,0],\n",
    "    [1,1,1,0]\n",
    "]\n",
    "norTable = np.array(norTable)\n",
    "norWeights = np.ones(3)"
   ]
  },
  {
   "cell_type": "code",
   "execution_count": 14,
   "id": "wound-halifax",
   "metadata": {},
   "outputs": [
    {
     "name": "stdout",
     "output_type": "stream",
     "text": [
      "[-0.1 -0.1  0.6]\n"
     ]
    }
   ],
   "source": [
    "norWeights = perceptron(norTable,norWeights)\n",
    "print(norWeights)"
   ]
  },
  {
   "cell_type": "code",
   "execution_count": 15,
   "id": "short-cooperation",
   "metadata": {},
   "outputs": [
    {
     "data": {
      "text/plain": [
       "array([ True,  True,  True,  True])"
      ]
     },
     "execution_count": 15,
     "metadata": {},
     "output_type": "execute_result"
    }
   ],
   "source": [
    "perceptron(norTable[:,:-1],norWeights,True) == norTable[:,-1]"
   ]
  },
  {
   "cell_type": "markdown",
   "id": "usual-young",
   "metadata": {},
   "source": [
    "## Training for the XNOR Percpetron"
   ]
  },
  {
   "cell_type": "code",
   "execution_count": 16,
   "id": "ahead-snowboard",
   "metadata": {},
   "outputs": [],
   "source": [
    "xnorTable = [\n",
    "    [0,0,1,1],\n",
    "    [0,1,1,0],\n",
    "    [1,0,1,0],\n",
    "    [1,1,1,1]\n",
    "]\n",
    "xnorTable = np.array(xnorTable)\n",
    "xnorWeights = np.ones(3)"
   ]
  },
  {
   "cell_type": "code",
   "execution_count": 17,
   "id": "spread-southwest",
   "metadata": {},
   "outputs": [
    {
     "name": "stdout",
     "output_type": "stream",
     "text": [
      "[0.1 0.1 0.5]\n"
     ]
    }
   ],
   "source": [
    "xnorWeights = perceptron(xnorTable,xnorWeights)\n",
    "print(xnorWeights)"
   ]
  },
  {
   "cell_type": "code",
   "execution_count": 18,
   "id": "light-studio",
   "metadata": {},
   "outputs": [
    {
     "data": {
      "text/plain": [
       "array([ True, False, False,  True])"
      ]
     },
     "execution_count": 18,
     "metadata": {},
     "output_type": "execute_result"
    }
   ],
   "source": [
    "perceptron(xnorTable[:,:-1],xnorWeights,True) == xnorTable[:,-1]"
   ]
  },
  {
   "cell_type": "markdown",
   "id": "average-chapter",
   "metadata": {},
   "source": [
    "Debido a que no es posible resolver el problema del XNOR o del XOR con 1 solo perceptron se tiene que recurrir a conectar varios perceptrones en una red para resolver problema"
   ]
  },
  {
   "cell_type": "code",
   "execution_count": 19,
   "id": "innovative-demonstration",
   "metadata": {},
   "outputs": [],
   "source": [
    "def andPerceptron(inputs):\n",
    "    return perceptron(inputs,andWeights,True)\n",
    "def orPerceptron(inputs):\n",
    "    return perceptron(inputs,orWeights,True)\n",
    "def notPerceptron(inputs):\n",
    "    return perceptron(inputs,notWeights,True)"
   ]
  },
  {
   "cell_type": "markdown",
   "id": "retired-bible",
   "metadata": {},
   "source": [
    "la compuerta XNOR se puede descomponer en ~ (~AB + ~BA)\n",
    "\n",
    "definiremos C = ~AB\n",
    "\n",
    "definiremos D = ~BA\n",
    "\n",
    "por lo tanto XNOR = ~(C+D)\n",
    "\n",
    "Y XNOR = ~XOR\n",
    "\n",
    "por lo que empezaremos por la compuerta XOR"
   ]
  },
  {
   "cell_type": "markdown",
   "id": "moving-filing",
   "metadata": {},
   "source": [
    "# Compuerta XOR"
   ]
  },
  {
   "cell_type": "code",
   "execution_count": 20,
   "id": "danish-advice",
   "metadata": {},
   "outputs": [],
   "source": [
    "xorTable = [\n",
    "    [0,0,1,0],\n",
    "    [0,1,1,1],\n",
    "    [1,0,1,1],\n",
    "    [1,1,1,0]\n",
    "]\n",
    "xorTable = np.array(xorTable)"
   ]
  },
  {
   "cell_type": "code",
   "execution_count": 21,
   "id": "twelve-cholesterol",
   "metadata": {},
   "outputs": [],
   "source": [
    "def xorNN(inputs):\n",
    "    A = inputs[:,0] ## Sacar columna A\n",
    "    B = inputs[:,1] ## Sacar columna B\n",
    "    ones = np.ones(inputs.shape[0]) ## Columna de 1\n",
    "    ## Agregamos Bias a las columnas\n",
    "    A = np.c_[A,ones]\n",
    "    B = np.c_[B,ones]\n",
    "    ## Usando el perceptron de NOT negamos los valores\n",
    "    notA = notPerceptron(A)\n",
    "    notB = notPerceptron(B)\n",
    "    ## Sacamos los valores de C y D\n",
    "    temp = np.c_[notA,B]\n",
    "    C = andPerceptron(temp)\n",
    "    temp = np.c_[notB,A]\n",
    "    D = andPerceptron(temp)\n",
    "    ## Agregamos una columna de bias para el perceptron que sigue\n",
    "    temp = np.c_[C,D,ones]\n",
    "    return orPerceptron(temp) ## Regresamos el resultado de el perceptron OR\n",
    "    "
   ]
  },
  {
   "cell_type": "code",
   "execution_count": 22,
   "id": "duplicate-stroke",
   "metadata": {},
   "outputs": [
    {
     "data": {
      "text/plain": [
       "array([ True,  True,  True,  True])"
      ]
     },
     "execution_count": 22,
     "metadata": {},
     "output_type": "execute_result"
    }
   ],
   "source": [
    "xorNN(xorTable[:,:-1]) == xorTable[:,-1]"
   ]
  },
  {
   "cell_type": "markdown",
   "id": "adverse-baking",
   "metadata": {},
   "source": [
    "## NN XNOR"
   ]
  },
  {
   "cell_type": "code",
   "execution_count": 23,
   "id": "opened-witness",
   "metadata": {},
   "outputs": [],
   "source": [
    "def xnorNN(inputs):\n",
    "    return notPerceptron(np.c_[xorNN(inputs),np.ones(inputs.shape[0])])"
   ]
  },
  {
   "cell_type": "code",
   "execution_count": 24,
   "id": "written-season",
   "metadata": {},
   "outputs": [
    {
     "data": {
      "text/plain": [
       "array([ True,  True,  True,  True])"
      ]
     },
     "execution_count": 24,
     "metadata": {},
     "output_type": "execute_result"
    }
   ],
   "source": [
    "xnorNN(xnorTable[:,:-1]) == xnorTable[:,-1]"
   ]
  }
 ],
 "metadata": {
  "kernelspec": {
   "display_name": "Python 3",
   "language": "python",
   "name": "python3"
  },
  "language_info": {
   "codemirror_mode": {
    "name": "ipython",
    "version": 3
   },
   "file_extension": ".py",
   "mimetype": "text/x-python",
   "name": "python",
   "nbconvert_exporter": "python",
   "pygments_lexer": "ipython3",
   "version": "3.8.5"
  }
 },
 "nbformat": 4,
 "nbformat_minor": 5
}
